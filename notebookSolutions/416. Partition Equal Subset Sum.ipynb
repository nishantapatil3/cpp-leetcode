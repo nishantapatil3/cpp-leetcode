{
 "cells": [
  {
   "cell_type": "code",
   "execution_count": 32,
   "metadata": {},
   "outputs": [],
   "source": [
    "from typing import List\n",
    "\n",
    "class Solution:\n",
    "    def canPartition(self, nums: List[int]) -> bool:\n",
    "        total = sum(nums)\n",
    "        if total % 2 == 1: return False\n",
    "        \n",
    "        target = total / 2\n",
    "        s = set([0])\n",
    "        \n",
    "        for n in nums:\n",
    "            sum_with_n = []\n",
    "            for i in s:\n",
    "                if i + n == target: \n",
    "                    print (i, n)\n",
    "                    return (True)\n",
    "                if i + n < target:\n",
    "                    sum_with_n.append(i+n)\n",
    "            s.update(sum_with_n)\n",
    "            print (s)\n",
    "        return (False)"
   ]
  },
  {
   "cell_type": "code",
   "execution_count": 69,
   "metadata": {},
   "outputs": [
    {
     "name": "stdout",
     "output_type": "stream",
     "text": [
      "False\n"
     ]
    }
   ],
   "source": [
    "arr = [1, 2, 3, 5]\n",
    "\n",
    "a = Solution()\n",
    "print (a.canPartition(arr))"
   ]
  },
  {
   "cell_type": "code",
   "execution_count": 104,
   "metadata": {},
   "outputs": [],
   "source": [
    "from typing import List\n",
    "\n",
    "class Solution2:\n",
    "    def canPartition(self, nums: List[int]) -> bool:\n",
    "        target = sum(nums)\n",
    "        if target & 1: return (False)\n",
    "        \n",
    "        n = len(nums)\n",
    "        target >>= 1\n",
    "        print (target)\n",
    "        \n",
    "        dp = [True] + [False]*target\n",
    "        print (dp)\n",
    "        \n",
    "        for x in nums:\n",
    "            for s in range(target+1):\n",
    "                dp = [dp[s] or (s >= x and dp[s-x])]\n",
    "            print (dp)\n",
    "            if dp[target]: return (True)\n",
    "        return False"
   ]
  },
  {
   "cell_type": "code",
   "execution_count": 105,
   "metadata": {},
   "outputs": [
    {
     "name": "stdout",
     "output_type": "stream",
     "text": [
      "4\n",
      "[True, False, False, False, False]\n",
      "[True, True, False, False, False]\n",
      "[True, True, True, True, False]\n",
      "[True, True, True, True, False]\n",
      "False\n"
     ]
    }
   ],
   "source": [
    "arr = [1,2,5]\n",
    "\n",
    "a = Solution2()\n",
    "print (a.canPartition(arr))"
   ]
  },
  {
   "cell_type": "code",
   "execution_count": null,
   "metadata": {},
   "outputs": [],
   "source": [
    "def canPartition(nums):\n",
    "    target, n = sum(nums), len(nums)\n",
    "    if target & 1: return False\n",
    "    target >>= 1\n",
    "    dp = [True] + [False]*target\n",
    "    for x in nums:\n",
    "        dp = [dp[s] or (s >= x and dp[s-x]) for s in range(target+1)]\n",
    "        if dp[target]: return True\n",
    "    return False"
   ]
  }
 ],
 "metadata": {
  "kernelspec": {
   "display_name": "Python 3",
   "language": "python",
   "name": "python3"
  },
  "language_info": {
   "codemirror_mode": {
    "name": "ipython",
    "version": 3
   },
   "file_extension": ".py",
   "mimetype": "text/x-python",
   "name": "python",
   "nbconvert_exporter": "python",
   "pygments_lexer": "ipython3",
   "version": "3.7.4"
  }
 },
 "nbformat": 4,
 "nbformat_minor": 4
}
