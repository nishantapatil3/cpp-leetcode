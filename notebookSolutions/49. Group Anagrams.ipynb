{
 "cells": [
  {
   "cell_type": "code",
   "execution_count": 92,
   "metadata": {},
   "outputs": [],
   "source": [
    "from typing import List\n",
    "from functools import reduce\n",
    "\n",
    "class Solution:\n",
    "    def groupAnagrams(self, strs: List[str]) -> List[List[str]]:\n",
    "        print (\"Solution1\")\n",
    "        ans_dict = dict()\n",
    "        for word in strs:\n",
    "            key = ''.join(sorted(word))\n",
    "            \n",
    "            if key in ans_dict:\n",
    "                ans_dict[key].append(word)\n",
    "            else:\n",
    "                ans_dict[key] = [word]\n",
    "        return ( [v for v in ans_dict.values()] )\n",
    "\n",
    "class Solution2:\n",
    "    def groupAnagrams(self, strs: List[str]) -> List[List[str]]:\n",
    "        print (\"Solution2\")\n",
    "        dic = dict()\n",
    "        for st in strs:\n",
    "            sorted_st = ''.join(sorted(st))\n",
    "            if sorted_st not in dic:\n",
    "                dic[sorted_st] = [st]\n",
    "            else:\n",
    "                dic[sorted_st].append(st)  \n",
    "        res = [v for v in dic.values()]\n",
    "        return (res)"
   ]
  },
  {
   "cell_type": "code",
   "execution_count": 94,
   "metadata": {},
   "outputs": [
    {
     "name": "stdout",
     "output_type": "stream",
     "text": [
      "Solution1\n",
      "[['cab'], ['tin'], ['pew'], ['duh'], ['may'], ['ill'], ['buy'], ['bar'], ['max'], ['doc']]\n",
      "CPU times: user 227 µs, sys: 89 µs, total: 316 µs\n",
      "Wall time: 270 µs\n"
     ]
    }
   ],
   "source": [
    "%%time\n",
    "\n",
    "arr = [\"cab\",\"tin\",\"pew\",\"duh\",\"may\",\"ill\",\"buy\",\"bar\",\"max\",\"doc\"]\n",
    "# arr = [\"tao\",\"pit\",\"cam\",\"aid\",\"pro\",\"dog\"]\n",
    "\n",
    "a = Solution()\n",
    "print (a.groupAnagrams(arr))"
   ]
  },
  {
   "cell_type": "code",
   "execution_count": 93,
   "metadata": {},
   "outputs": [
    {
     "name": "stdout",
     "output_type": "stream",
     "text": [
      "Solution2\n",
      "[['cab'], ['tin'], ['pew'], ['duh'], ['may'], ['ill'], ['buy'], ['bar'], ['max'], ['doc']]\n",
      "CPU times: user 241 µs, sys: 165 µs, total: 406 µs\n",
      "Wall time: 295 µs\n"
     ]
    }
   ],
   "source": [
    "%%time\n",
    "\n",
    "arr = [\"cab\",\"tin\",\"pew\",\"duh\",\"may\",\"ill\",\"buy\",\"bar\",\"max\",\"doc\"]\n",
    "# arr = [\"tao\",\"pit\",\"cam\",\"aid\",\"pro\",\"dog\"]\n",
    "\n",
    "a = Solution2()\n",
    "print (a.groupAnagrams(arr))"
   ]
  },
  {
   "cell_type": "code",
   "execution_count": null,
   "metadata": {},
   "outputs": [],
   "source": []
  }
 ],
 "metadata": {
  "kernelspec": {
   "display_name": "Python 3",
   "language": "python",
   "name": "python3"
  },
  "language_info": {
   "codemirror_mode": {
    "name": "ipython",
    "version": 3
   },
   "file_extension": ".py",
   "mimetype": "text/x-python",
   "name": "python",
   "nbconvert_exporter": "python",
   "pygments_lexer": "ipython3",
   "version": "3.7.4"
  }
 },
 "nbformat": 4,
 "nbformat_minor": 4
}
