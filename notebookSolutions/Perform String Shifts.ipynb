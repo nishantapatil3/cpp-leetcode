{
 "cells": [
  {
   "cell_type": "code",
   "execution_count": 48,
   "metadata": {},
   "outputs": [],
   "source": [
    "from typing import List\n",
    "\n",
    "class Solution:\n",
    "    def rightShift(self, s, k):\n",
    "        print (\"right shift\", k)\n",
    "        s = s[-k:] + s[:-k]\n",
    "        return (s)\n",
    "    \n",
    "    def leftShift(self, s, k):\n",
    "        print (\"left shift\", k)\n",
    "        s = s[k:] + s[:k]\n",
    "        return (s)\n",
    "    \n",
    "    def stringShift(self, s: str, shift: List[List[int]]) -> str:\n",
    "        s_arr = list(s)\n",
    "        print (s_arr)\n",
    "        for direction, amount in shift:\n",
    "            if direction:\n",
    "                s = self.rightShift(s, amount)\n",
    "            else:\n",
    "                s = self.leftShift(s, amount)\n",
    "            print (s)\n",
    "        return (s)"
   ]
  },
  {
   "cell_type": "code",
   "execution_count": 49,
   "metadata": {},
   "outputs": [
    {
     "name": "stdout",
     "output_type": "stream",
     "text": [
      "['a', 'b', 'c', 'd', 'e', 'f', 'g']\n",
      "right shift 1\n",
      "gabcdef\n",
      "right shift 1\n",
      "fgabcde\n",
      "left shift 2\n",
      "abcdefg\n",
      "right shift 3\n",
      "efgabcd\n",
      "efgabcd\n"
     ]
    }
   ],
   "source": [
    "s = \"abcdefg\"\n",
    "shift = [[1,1],[1,1],[0,2],[1,3]]\n",
    "\n",
    "a = Solution()\n",
    "print (a.stringShift(s, shift))"
   ]
  },
  {
   "cell_type": "code",
   "execution_count": null,
   "metadata": {},
   "outputs": [],
   "source": []
  }
 ],
 "metadata": {
  "kernelspec": {
   "display_name": "Python 3",
   "language": "python",
   "name": "python3"
  },
  "language_info": {
   "codemirror_mode": {
    "name": "ipython",
    "version": 3
   },
   "file_extension": ".py",
   "mimetype": "text/x-python",
   "name": "python",
   "nbconvert_exporter": "python",
   "pygments_lexer": "ipython3",
   "version": "3.7.4"
  }
 },
 "nbformat": 4,
 "nbformat_minor": 4
}
