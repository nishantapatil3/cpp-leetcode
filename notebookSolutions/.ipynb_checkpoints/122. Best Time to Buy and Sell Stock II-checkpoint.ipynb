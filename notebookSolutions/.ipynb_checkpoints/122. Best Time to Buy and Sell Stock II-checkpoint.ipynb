{
 "cells": [
  {
   "cell_type": "code",
   "execution_count": 45,
   "metadata": {},
   "outputs": [],
   "source": [
    "from typing import List\n",
    "\n",
    "class Solution:\n",
    "    def maxProfit(self, prices: List[int]) -> int:\n",
    "        total = 0\n",
    "        for i in range(1, len(prices)):\n",
    "            curr_profit = prices[i] - prices[i-1]\n",
    "            if curr_profit > 0:\n",
    "                total += curr_profit\n",
    "        return (total)\n",
    "\n",
    "class Solution2:\n",
    "    def maxProfit(self, prices: List[int]) -> int:\n",
    "        total = 0\n",
    "        for i in range(1, len(prices)):\n",
    "            total += max(prices[i] - prices[i-1], 0)\n",
    "        return (total)"
   ]
  },
  {
   "cell_type": "code",
   "execution_count": 47,
   "metadata": {},
   "outputs": [
    {
     "name": "stdout",
     "output_type": "stream",
     "text": [
      "7\n"
     ]
    }
   ],
   "source": [
    "arr = [7,1,5,3,6,4]\n",
    "\n",
    "a = Solution2()\n",
    "print (a.maxProfit(arr))"
   ]
  },
  {
   "cell_type": "code",
   "execution_count": null,
   "metadata": {},
   "outputs": [],
   "source": []
  }
 ],
 "metadata": {
  "kernelspec": {
   "display_name": "Python 3",
   "language": "python",
   "name": "python3"
  },
  "language_info": {
   "codemirror_mode": {
    "name": "ipython",
    "version": 3
   },
   "file_extension": ".py",
   "mimetype": "text/x-python",
   "name": "python",
   "nbconvert_exporter": "python",
   "pygments_lexer": "ipython3",
   "version": "3.7.4"
  }
 },
 "nbformat": 4,
 "nbformat_minor": 4
}
