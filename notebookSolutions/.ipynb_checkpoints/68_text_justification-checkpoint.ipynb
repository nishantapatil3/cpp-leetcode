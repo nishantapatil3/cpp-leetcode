{
 "cells": [
  {
   "cell_type": "code",
   "execution_count": 57,
   "metadata": {},
   "outputs": [],
   "source": [
    "def fullJustify(words, maxWidth):\n",
    "        n = len(words)\n",
    "        i = 0\n",
    "        ans = []\n",
    "        \n",
    "        # Check how many words can fit in a line of width \"maxWidth\"\n",
    "        def getKwords(i):\n",
    "            k = 0\n",
    "            l = ' '.join(words[i:i+k])\n",
    "            while len(l) <= maxWidth and i+k <= n:\n",
    "                k += 1\n",
    "                l = ' '.join(words[i:i+k])\n",
    "            k -= 1\n",
    "            return (k)\n",
    "        \n",
    "        # Get line updating spaces to fit maxWidth\n",
    "        def getLine(i, k):\n",
    "            l = ' '.join(words[i:i+k])\n",
    "\n",
    "            # Case: when we need to get the last line, we just need to left append spaces\n",
    "            if k == 1 or i + k == n:\n",
    "                spaces = maxWidth - len(l)\n",
    "                line = l + ' ' * spaces\n",
    "\n",
    "            # All other cases\n",
    "            else:\n",
    "                spaces = maxWidth - len(l) + (k-1)\n",
    "                space = spaces // (k-1)\n",
    "                left = spaces % (k-1)\n",
    "                if left > 0:\n",
    "                    line = ( (' ' * (space+1)).join(words[i:i+left])) # left words\n",
    "                    line += ' ' * (space+1)                           # between words from left to right words\n",
    "                    line += (' ' * space).join(words[i+left:i+k])     # right words\n",
    "                else:\n",
    "                    line = (' ' * space).join(words[i:i+k])\n",
    "            return (line)\n",
    "        \n",
    "        while i < n:\n",
    "            k = getKwords(i)\n",
    "            print (k)\n",
    "            print (words[i:i+k])\n",
    "            line = getLine(i,k)\n",
    "            ans.append(line)\n",
    "            i += k\n",
    "        \n",
    "        return ans"
   ]
  },
  {
   "cell_type": "code",
   "execution_count": 58,
   "metadata": {},
   "outputs": [
    {
     "name": "stdout",
     "output_type": "stream",
     "text": [
      "4\n",
      "['Science', 'is', 'what', 'we']\n",
      "2\n",
      "['understand', 'well']\n",
      "4\n",
      "['enough', 'to', 'explain', 'to']\n",
      "4\n",
      "['a', 'computer.', 'Art', 'is']\n",
      "3\n",
      "['everything', 'else', 'we']\n",
      "1\n",
      "['do']\n",
      "['Science  is  what we', 'understand      well', 'enough to explain to', 'a  computer.  Art is', 'everything  else  we', 'do                  ']\n"
     ]
    }
   ],
   "source": [
    "words = [\"Science\",\"is\",\"what\",\"we\",\"understand\",\"well\",\"enough\",\"to\",\"explain\",\"to\",\"a\",\"computer.\",\"Art\",\"is\",\"everything\",\"else\",\"we\",\"do\"]\n",
    "maxWidth = 20\n",
    "\n",
    "print (fullJustify(words, maxWidth))"
   ]
  },
  {
   "cell_type": "code",
   "execution_count": null,
   "metadata": {},
   "outputs": [],
   "source": []
  }
 ],
 "metadata": {
  "kernelspec": {
   "display_name": "Python 3",
   "language": "python",
   "name": "python3"
  },
  "language_info": {
   "codemirror_mode": {
    "name": "ipython",
    "version": 3
   },
   "file_extension": ".py",
   "mimetype": "text/x-python",
   "name": "python",
   "nbconvert_exporter": "python",
   "pygments_lexer": "ipython3",
   "version": "3.7.4"
  }
 },
 "nbformat": 4,
 "nbformat_minor": 4
}
