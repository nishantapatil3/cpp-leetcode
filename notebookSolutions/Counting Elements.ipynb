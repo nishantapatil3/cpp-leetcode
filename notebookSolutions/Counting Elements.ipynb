{
 "cells": [
  {
   "cell_type": "code",
   "execution_count": 26,
   "metadata": {},
   "outputs": [],
   "source": [
    "from typing import List\n",
    "\n",
    "class Solution:\n",
    "    def countElements(self, arr: List[int]) -> int:\n",
    "        ans = {}\n",
    "        \n",
    "        for num in arr:\n",
    "            if num in ans:\n",
    "                ans[num] += 1\n",
    "            else:\n",
    "                ans[num] = 1\n",
    "        \n",
    "        count = 0\n",
    "        for num in arr:\n",
    "            if num+1 in ans:\n",
    "                ans[num+1] -= 1\n",
    "                count += 1\n",
    "        \n",
    "        print (ans)\n",
    "        print (count)\n",
    "        \n",
    "        return (count)\n",
    "    \n",
    "class Solution2:\n",
    "    def countElements(self, arr: List[int]) -> int:\n",
    "        ans = set(arr)\n",
    "        \n",
    "        count = sum([1 for x in arr if x+1 in ans])\n",
    "        \n",
    "        print (ans)\n",
    "        print (count)\n",
    "        \n",
    "        return (count)"
   ]
  },
  {
   "cell_type": "code",
   "execution_count": 27,
   "metadata": {},
   "outputs": [
    {
     "name": "stdout",
     "output_type": "stream",
     "text": [
      "{1: 7, 2: -6, 3: 0}\n",
      "8\n",
      "8\n"
     ]
    }
   ],
   "source": [
    "arr = [1,1,1,1,1,1,1,2,3]\n",
    "\n",
    "a = Solution()\n",
    "print (a.countElements(arr))"
   ]
  },
  {
   "cell_type": "code",
   "execution_count": null,
   "metadata": {},
   "outputs": [],
   "source": []
  }
 ],
 "metadata": {
  "kernelspec": {
   "display_name": "Python 3",
   "language": "python",
   "name": "python3"
  },
  "language_info": {
   "codemirror_mode": {
    "name": "ipython",
    "version": 3
   },
   "file_extension": ".py",
   "mimetype": "text/x-python",
   "name": "python",
   "nbconvert_exporter": "python",
   "pygments_lexer": "ipython3",
   "version": "3.7.4"
  }
 },
 "nbformat": 4,
 "nbformat_minor": 4
}
