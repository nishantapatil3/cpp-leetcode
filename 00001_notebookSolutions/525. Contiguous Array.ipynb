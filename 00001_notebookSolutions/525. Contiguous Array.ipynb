{
 "cells": [
  {
   "cell_type": "code",
   "execution_count": 4,
   "metadata": {},
   "outputs": [],
   "source": [
    "from typing import List\n",
    "\n",
    "class Solution:\n",
    "    def findMaxLength(self, nums: List[int]) -> int:\n",
    "        count = 0\n",
    "        table = {0:0}\n",
    "        max_length = 0\n",
    "        \n",
    "        for i, n in enumerate(nums, 1):\n",
    "            if n == 0:\n",
    "                count -= 1\n",
    "            else:\n",
    "                count += 1\n",
    "            \n",
    "            if count in table:\n",
    "                max_length = max(max_length, i - table[count])\n",
    "            else:\n",
    "                table[count] = i\n",
    "            print (table)\n",
    "                \n",
    "        return (max_length)"
   ]
  },
  {
   "cell_type": "code",
   "execution_count": 6,
   "metadata": {},
   "outputs": [
    {
     "name": "stdout",
     "output_type": "stream",
     "text": [
      "{0: 0, -1: 1}\n",
      "{0: 0, -1: 1, -2: 2}\n",
      "{0: 0, -1: 1, -2: 2, -3: 3}\n",
      "{0: 0, -1: 1, -2: 2, -3: 3}\n",
      "{0: 0, -1: 1, -2: 2, -3: 3}\n",
      "{0: 0, -1: 1, -2: 2, -3: 3}\n",
      "4\n"
     ]
    }
   ],
   "source": [
    "arr = [0,0,0,1,0,1]\n",
    "\n",
    "a = Solution()\n",
    "print (a.findMaxLength(arr))"
   ]
  },
  {
   "cell_type": "code",
   "execution_count": null,
   "metadata": {},
   "outputs": [],
   "source": []
  }
 ],
 "metadata": {
  "kernelspec": {
   "display_name": "Python 3",
   "language": "python",
   "name": "python3"
  },
  "language_info": {
   "codemirror_mode": {
    "name": "ipython",
    "version": 3
   },
   "file_extension": ".py",
   "mimetype": "text/x-python",
   "name": "python",
   "nbconvert_exporter": "python",
   "pygments_lexer": "ipython3",
   "version": "3.7.4"
  }
 },
 "nbformat": 4,
 "nbformat_minor": 4
}
