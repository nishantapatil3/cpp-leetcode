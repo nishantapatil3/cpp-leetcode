{
 "cells": [
  {
   "cell_type": "code",
   "execution_count": 49,
   "metadata": {},
   "outputs": [],
   "source": [
    "from typing import List\n",
    "import heapq\n",
    "\n",
    "class Solution:\n",
    "    def lastStoneWeight(self, stones: List[int]) -> int:\n",
    "        h = [-x for x in stones]\n",
    "        heapq.heapify(h)\n",
    "        print (h)\n",
    "        while len(h) > 1 and h[0] != 0:\n",
    "            heapq.heappush(h, heapq.heappop(h) - heapq.heappop(h))\n",
    "            \n",
    "        return (-h[0])"
   ]
  },
  {
   "cell_type": "code",
   "execution_count": 50,
   "metadata": {},
   "outputs": [
    {
     "name": "stdout",
     "output_type": "stream",
     "text": [
      "[-8, -7, -4, -7, -7, -1, -4, -1, -3, -2]\n",
      "[-7, -7, -4, -3, -2, -1, -4, -1, -1]\n",
      "[-4, -3, -4, -1, -2, -1, -1, 0]\n",
      "[-3, -2, -1, -1, 0, -1, 0]\n",
      "[-1, -1, -1, 0, 0, -1]\n",
      "[-1, -1, 0, 0, 0]\n",
      "[0, 0, 0, 0]\n",
      "0\n"
     ]
    }
   ],
   "source": [
    "arr = [2,7,4,1,8,1,4,7,3,7]\n",
    "\n",
    "a = Solution()\n",
    "print (a.lastStoneWeight(arr))"
   ]
  },
  {
   "cell_type": "code",
   "execution_count": null,
   "metadata": {},
   "outputs": [],
   "source": []
  }
 ],
 "metadata": {
  "kernelspec": {
   "display_name": "Python 3",
   "language": "python",
   "name": "python3"
  },
  "language_info": {
   "codemirror_mode": {
    "name": "ipython",
    "version": 3
   },
   "file_extension": ".py",
   "mimetype": "text/x-python",
   "name": "python",
   "nbconvert_exporter": "python",
   "pygments_lexer": "ipython3",
   "version": "3.7.4"
  }
 },
 "nbformat": 4,
 "nbformat_minor": 4
}
