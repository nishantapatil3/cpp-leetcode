{
 "cells": [
  {
   "cell_type": "code",
   "execution_count": 62,
   "metadata": {},
   "outputs": [],
   "source": [
    "from typing import List\n",
    "\n",
    "class Solution:\n",
    "    def squaresOfNums(self, n: int) -> int:\n",
    "        ans = 0\n",
    "        while n:\n",
    "            num, n = n%10, n//10\n",
    "            ans += num**2\n",
    "        return (ans)\n",
    "    \n",
    "    def isHappy(self, n: int) -> bool:\n",
    "        ans = 0\n",
    "        count = set()\n",
    "        while n != 1:\n",
    "            count.add(n)\n",
    "            n = self.squaresOfNums(n)\n",
    "            if n in count:\n",
    "                return (False)\n",
    "        \n",
    "        return (True)"
   ]
  },
  {
   "cell_type": "code",
   "execution_count": 63,
   "metadata": {},
   "outputs": [
    {
     "name": "stdout",
     "output_type": "stream",
     "text": [
      "False\n",
      "CPU times: user 59 µs, sys: 3 µs, total: 62 µs\n",
      "Wall time: 63.9 µs\n"
     ]
    }
   ],
   "source": [
    "%%time\n",
    "inputa = 19132\n",
    "\n",
    "a = Solution()\n",
    "print (a.isHappy(inputa))"
   ]
  },
  {
   "cell_type": "code",
   "execution_count": null,
   "metadata": {},
   "outputs": [],
   "source": []
  }
 ],
 "metadata": {
  "kernelspec": {
   "display_name": "Python 3",
   "language": "python",
   "name": "python3"
  },
  "language_info": {
   "codemirror_mode": {
    "name": "ipython",
    "version": 3
   },
   "file_extension": ".py",
   "mimetype": "text/x-python",
   "name": "python",
   "nbconvert_exporter": "python",
   "pygments_lexer": "ipython3",
   "version": "3.7.4"
  }
 },
 "nbformat": 4,
 "nbformat_minor": 4
}
