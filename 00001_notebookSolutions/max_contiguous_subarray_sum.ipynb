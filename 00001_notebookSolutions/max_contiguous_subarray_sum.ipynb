{
 "cells": [
  {
   "cell_type": "code",
   "execution_count": 90,
   "metadata": {},
   "outputs": [],
   "source": [
    "def maxCrossing(arr, l, m, r):\n",
    "    ssum = 0\n",
    "    left_sum = float(\"-inf\")\n",
    "    for i in range(m, l-1, -1):\n",
    "        ssum = ssum + arr[i]\n",
    "        if (left_sum < ssum):\n",
    "            left_sum = ssum\n",
    "    \n",
    "    print (\"from\", m , \"to\", l-1, \"sum\", left_sum)\n",
    "    \n",
    "    ssum = 0\n",
    "    right_sum = float(\"-inf\")\n",
    "    for i in range(m + 1, r + 1) :\n",
    "        ssum = ssum + arr[i]\n",
    "        if (right_sum < ssum):\n",
    "            right_sum = ssum\n",
    "    \n",
    "    print (\"from2\", m+1 , \"to\", r+1, \"sum\", right_sum)\n",
    "\n",
    "    return (left_sum + right_sum)"
   ]
  },
  {
   "cell_type": "code",
   "execution_count": 91,
   "metadata": {},
   "outputs": [],
   "source": [
    "def maxSubArraySum(arr, l, r):\n",
    "    if l == r:\n",
    "        return (arr[l])\n",
    "    \n",
    "    m = (l+r) // 2\n",
    "\n",
    "    total = max(maxSubArraySum(arr, l, m), maxSubArraySum(arr, m+1, r), maxCrossing(arr, l, m, r))\n",
    "    return (total)"
   ]
  },
  {
   "cell_type": "code",
   "execution_count": 92,
   "metadata": {},
   "outputs": [
    {
     "name": "stdout",
     "output_type": "stream",
     "text": [
      "36\n",
      "from 0 to -1 sum 1\n",
      "from2 1 to 2 sum 2\n",
      "from 2 to 1 sum 3\n",
      "from2 3 to 4 sum 4\n",
      "from 1 to -1 sum 3\n",
      "from2 2 to 4 sum 7\n",
      "from 4 to 3 sum 5\n",
      "from2 5 to 6 sum 6\n",
      "from 6 to 5 sum 7\n",
      "from2 7 to 8 sum 8\n",
      "from 5 to 3 sum 11\n",
      "from2 6 to 8 sum 15\n",
      "from 3 to -1 sum 10\n",
      "from2 4 to 8 sum 26\n",
      "36\n"
     ]
    }
   ],
   "source": [
    "# arr = [-2, -3, 4, -1, -2, 1, 5, -3]\n",
    "arr = [1,2,3,4,5,6,7,8]\n",
    "print (sum (arr))\n",
    "# arr = [-13, -3, -25, -20, -3, -16, -23, -12, -5, -22, -15, -4, -7] \n",
    "\n",
    "n = len(arr)\n",
    "max_sum = maxSubArraySum(arr, 0, n-1)\n",
    "print (max_sum)"
   ]
  },
  {
   "cell_type": "code",
   "execution_count": null,
   "metadata": {},
   "outputs": [],
   "source": []
  }
 ],
 "metadata": {
  "kernelspec": {
   "display_name": "Python 3",
   "language": "python",
   "name": "python3"
  },
  "language_info": {
   "codemirror_mode": {
    "name": "ipython",
    "version": 3
   },
   "file_extension": ".py",
   "mimetype": "text/x-python",
   "name": "python",
   "nbconvert_exporter": "python",
   "pygments_lexer": "ipython3",
   "version": "3.7.4"
  }
 },
 "nbformat": 4,
 "nbformat_minor": 2
}
