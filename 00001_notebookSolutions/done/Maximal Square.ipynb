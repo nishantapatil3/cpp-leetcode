{
 "cells": [
  {
   "cell_type": "code",
   "execution_count": 36,
   "metadata": {},
   "outputs": [],
   "source": [
    "from typing import List\n",
    "\n",
    "class Solution:\n",
    "    def maximalSquare(self, A: List[List[str]]) -> int:\n",
    "        for i in range(len(A)):\n",
    "            for j in range(len(A[i])):\n",
    "                A[i][j] = int(A[i][j])\n",
    "                if A[i][j] and i and j:\n",
    "                    A[i][j] = min(A[i-1][j], A[i-1][j-1], A[i][j-1]) + 1\n",
    "        for row in A:\n",
    "            print (row)\n",
    "        print (list(map(max, A)))\n",
    "        return len(A) and max(map(max, A)) ** 2"
   ]
  },
  {
   "cell_type": "code",
   "execution_count": 37,
   "metadata": {},
   "outputs": [
    {
     "name": "stdout",
     "output_type": "stream",
     "text": [
      "[1, 0, 1, 0, 0]\n",
      "[1, 0, 1, 1, 1]\n",
      "[1, 1, 1, 2, 2]\n",
      "[1, 0, 0, 1, 0]\n",
      "[1, 1, 2, 1]\n",
      "4\n"
     ]
    }
   ],
   "source": [
    "arr = [[\"1\",\"0\",\"1\",\"0\",\"0\"],[\"1\",\"0\",\"1\",\"1\",\"1\"],[\"1\",\"1\",\"1\",\"1\",\"1\"],[\"1\",\"0\",\"0\",\"1\",\"0\"]]\n",
    "\n",
    "a = Solution()\n",
    "print (a.maximalSquare(arr))"
   ]
  },
  {
   "cell_type": "code",
   "execution_count": null,
   "metadata": {},
   "outputs": [],
   "source": []
  }
 ],
 "metadata": {
  "kernelspec": {
   "display_name": "Python 3",
   "language": "python",
   "name": "python3"
  },
  "language_info": {
   "codemirror_mode": {
    "name": "ipython",
    "version": 3
   },
   "file_extension": ".py",
   "mimetype": "text/x-python",
   "name": "python",
   "nbconvert_exporter": "python",
   "pygments_lexer": "ipython3",
   "version": "3.7.4"
  }
 },
 "nbformat": 4,
 "nbformat_minor": 4
}
