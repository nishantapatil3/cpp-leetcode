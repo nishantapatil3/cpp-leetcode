{
 "cells": [
  {
   "cell_type": "code",
   "execution_count": 27,
   "metadata": {},
   "outputs": [],
   "source": [
    "from typing import List\n",
    "\n",
    "class Solution:\n",
    "    def numSquares(self, n: int) -> int:\n",
    "        dp = [0] * (n+1)\n",
    "        \n",
    "        for x in range(1, n+1):\n",
    "            min_val = x # worst case take all one\n",
    "            \n",
    "            y = 1\n",
    "            sq = 1\n",
    "            while (sq <= x):\n",
    "                min_val = min(min_val, 1+dp[x-sq])\n",
    "                y += 1\n",
    "                sq = y*y\n",
    "            \n",
    "            dp[x] = min_val\n",
    "        \n",
    "        return (dp[n])"
   ]
  },
  {
   "cell_type": "code",
   "execution_count": 28,
   "metadata": {},
   "outputs": [
    {
     "name": "stdout",
     "output_type": "stream",
     "text": [
      "3\n"
     ]
    }
   ],
   "source": [
    "num = 12\n",
    "\n",
    "a = Solution()\n",
    "print (a.numSquares(num))"
   ]
  },
  {
   "cell_type": "code",
   "execution_count": null,
   "metadata": {},
   "outputs": [],
   "source": []
  }
 ],
 "metadata": {
  "kernelspec": {
   "display_name": "Python 3",
   "language": "python",
   "name": "python3"
  },
  "language_info": {
   "codemirror_mode": {
    "name": "ipython",
    "version": 3
   },
   "file_extension": ".py",
   "mimetype": "text/x-python",
   "name": "python",
   "nbconvert_exporter": "python",
   "pygments_lexer": "ipython3",
   "version": "3.7.4"
  }
 },
 "nbformat": 4,
 "nbformat_minor": 4
}
