{
 "cells": [
  {
   "cell_type": "code",
   "execution_count": 28,
   "metadata": {},
   "outputs": [
    {
     "name": "stdout",
     "output_type": "stream",
     "text": [
      "row_len 2\n",
      "col_len 2\n",
      "\n",
      "[0, 0, 0, 0, 0, 0]\n",
      "[0, 0, 0, 0, 0, 0]\n",
      "[0, 0, 0, 0, 0, 0]\n",
      "[0, 0, 0, 0, 0, 0]\n",
      "[0, 0, 0, 0, 0, 0]\n",
      "[0, 0, 0, 0, 0, 0]\n",
      "\n",
      "[1, 0, 0, 0, 0, 1]\n",
      "[0, 1, 0, 0, 1, 0]\n",
      "[0, 0, 1, 1, 0, 0]\n",
      "[0, 0, 1, 1, 0, 0]\n",
      "[0, 1, 0, 0, 1, 0]\n",
      "[1, 0, 0, 0, 0, 1]\n",
      "\n",
      "[1, '#', '#', '#', '#', 1]\n",
      "['#', 1, '#', '#', 1, '#']\n",
      "['#', '#', 1, 1, '#', '#']\n",
      "['#', '#', 1, 1, '#', '#']\n",
      "['#', 1, '#', '#', 1, '#']\n",
      "[1, '#', '#', '#', '#', 1]\n",
      "\n",
      "4\n"
     ]
    }
   ],
   "source": [
    "def printmatrix(mat):\n",
    "    for list in mat:\n",
    "        print(list)\n",
    "    print ()\n",
    "\n",
    "arr = [\n",
    "  \"\\\\/\",\n",
    "  \"/\\\\\"\n",
    "]\n",
    "\n",
    "n = len(arr)\n",
    "m = len(arr[0])\n",
    "\n",
    "print (\"row_len\", n)\n",
    "print (\"col_len\", m)\n",
    "print ()\n",
    "\n",
    "g = [[0]*3*m for i in range(3*n)]\n",
    "printmatrix (g)\n",
    "\n",
    "for i in range(n):\n",
    "    for j in range(m):\n",
    "        if arr[i][j] == \"/\":\n",
    "            g[i*3][j*3+2] = 1\n",
    "            g[i*3+1][j*3+1] = 1\n",
    "            g[i*3+2][j*3] = 1\n",
    "        elif arr[i][j] == \"\\\\\":\n",
    "            g[i*3][j*3] = 1\n",
    "            g[i*3+1][j*3+1] = 1\n",
    "            g[i*3+2][j*3+2] = 1\n",
    "\n",
    "printmatrix (g)\n",
    "\n",
    "def dfs(grid, i, j):\n",
    "    if i<0 or j<0 or i>=len(grid) or j>=len(grid[0]) or grid[i][j]!=0:\n",
    "        return\n",
    "    grid[i][j] = \"#\"\n",
    "    dfs(grid, i+1, j)\n",
    "    dfs(grid, i-1, j)\n",
    "    dfs(grid, i, j+1)\n",
    "    dfs(grid, i, j-1)\n",
    "\n",
    "grid = g\n",
    "count = 0\n",
    "for i in range(len(grid)):\n",
    "    for j in range(len(grid[0])):\n",
    "        if grid[i][j] == 0:\n",
    "            dfs(grid, i , j)\n",
    "            count += 1\n",
    "\n",
    "printmatrix (grid)\n",
    "print(count)"
   ]
  },
  {
   "cell_type": "code",
   "execution_count": null,
   "metadata": {},
   "outputs": [],
   "source": []
  }
 ],
 "metadata": {
  "kernelspec": {
   "display_name": "Python 3",
   "language": "python",
   "name": "python3"
  },
  "language_info": {
   "codemirror_mode": {
    "name": "ipython",
    "version": 3
   },
   "file_extension": ".py",
   "mimetype": "text/x-python",
   "name": "python",
   "nbconvert_exporter": "python",
   "pygments_lexer": "ipython3",
   "version": "3.7.4"
  }
 },
 "nbformat": 4,
 "nbformat_minor": 2
}
