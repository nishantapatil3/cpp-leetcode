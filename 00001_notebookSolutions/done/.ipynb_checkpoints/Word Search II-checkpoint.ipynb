{
 "cells": [
  {
   "cell_type": "code",
   "execution_count": 26,
   "metadata": {},
   "outputs": [],
   "source": [
    "class Trie:\n",
    "    def __init__(self):\n",
    "        self.child = {}\n",
    "    \n",
    "    def insert(self, word):\n",
    "        cur = self.child\n",
    "        for l in word:\n",
    "            if l not in cur:\n",
    "                cur[l] = {}\n",
    "            cur = cur[l]\n",
    "        cur['#'] = True\n",
    "    \n",
    "    def search(self, word):\n",
    "        cur = self.child\n",
    "        for l in word:\n",
    "            if l not in cur:\n",
    "                return False\n",
    "            cur = cur[l]\n",
    "        return \"#\" in cur\n",
    "    \n",
    "    def startswith(self, prefix):\n",
    "        cur = self.child\n",
    "        for l in prefix:\n",
    "            if l not in cur:\n",
    "                return False\n",
    "            cur = cur[l]\n",
    "        return True"
   ]
  },
  {
   "cell_type": "code",
   "execution_count": 27,
   "metadata": {},
   "outputs": [
    {
     "name": "stdout",
     "output_type": "stream",
     "text": [
      "['oath', 'eat']\n"
     ]
    }
   ],
   "source": [
    "board = [\n",
    "  ['o','a','a','n'],\n",
    "  ['e','t','a','e'],\n",
    "  ['i','h','k','r'],\n",
    "  ['i','f','l','v']\n",
    "]\n",
    "words = [\"oath\",\"pea\",\"eat\",\"rain\"]\n",
    "\n",
    "t = Trie()\n",
    "for word in words:\n",
    "    t.insert(word)\n",
    "\n",
    "N = len(board)\n",
    "M = len(board[0])\n",
    "output = []\n",
    "\n",
    "def dfs(row, col, path):\n",
    "    # outbounds or visited?\n",
    "    if row <0 or row >= N or col <0 or col >= M or board[row][col] == 0:\n",
    "        return\n",
    "    \n",
    "    temp = path + [board[row][col]]\n",
    "    string = \"\".join(temp)\n",
    "    #starts?\n",
    "    if not t.startswith(string):\n",
    "        return\n",
    "    elif t.search(string) and string not in output:\n",
    "        output.append(string)\n",
    "            \n",
    "    \n",
    "    placeholder = board[row][col]\n",
    "    board[row][col] = 0\n",
    "    dfs(row-1, col, temp)\n",
    "    dfs(row+1, col, temp)\n",
    "    dfs(row, col-1, temp)\n",
    "    dfs(row, col+1, temp)\n",
    "    board[row][col] = placeholder\n",
    "    \n",
    "for n in range(N):\n",
    "    for m in range(M):\n",
    "        dfs(n, m, [])\n",
    "\n",
    "print (output)"
   ]
  },
  {
   "cell_type": "code",
   "execution_count": null,
   "metadata": {},
   "outputs": [],
   "source": []
  }
 ],
 "metadata": {
  "kernelspec": {
   "display_name": "Python 3",
   "language": "python",
   "name": "python3"
  },
  "language_info": {
   "codemirror_mode": {
    "name": "ipython",
    "version": 3
   },
   "file_extension": ".py",
   "mimetype": "text/x-python",
   "name": "python",
   "nbconvert_exporter": "python",
   "pygments_lexer": "ipython3",
   "version": "3.7.4"
  }
 },
 "nbformat": 4,
 "nbformat_minor": 4
}
