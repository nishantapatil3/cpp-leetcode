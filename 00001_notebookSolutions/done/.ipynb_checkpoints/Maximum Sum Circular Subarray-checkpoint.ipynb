{
 "cells": [
  {
   "cell_type": "code",
   "execution_count": 32,
   "metadata": {},
   "outputs": [],
   "source": [
    "from typing import List\n",
    "\n",
    "class Solution:\n",
    "    def kadane(self, A):\n",
    "        max_sum = float('-inf')\n",
    "        curr_sum = float('-inf')\n",
    "        for a in A:\n",
    "            curr_sum += a\n",
    "            curr_sum = max(curr_sum, a)\n",
    "            max_sum = max(max_sum, curr_sum)\n",
    "        return (max_sum)\n",
    "    \n",
    "    def maxSubarraySumCircular(self, A: List[int]) -> int:\n",
    "        noncircular = self.kadane(A)\n",
    "        circular = self.kadane(-a for a in A) + sum(A)\n",
    "        return (max(noncircular, circular) if circular > 0 else noncircular)\n",
    "\n",
    "class Solution2:\n",
    "    def maxSubarraySumCircular(self, A: List[int]) -> int:\n",
    "        curr_max = 0\n",
    "        curr_min = 0\n",
    "        max_sum = float('-inf')\n",
    "        min_sum = float('inf')\n",
    "        total = 0\n",
    "        \n",
    "        for a in A:\n",
    "            curr_max = max(curr_max + a, a)\n",
    "            max_sum = max(max_sum, curr_max)\n",
    "            curr_min = min(curr_min + a, a)\n",
    "            min_sum = min(min_sum, curr_min)\n",
    "            total += a\n",
    "        \n",
    "        return ( max(max_sum, total-min_sum) if max_sum > 0 else max_sum  )"
   ]
  },
  {
   "cell_type": "code",
   "execution_count": 33,
   "metadata": {},
   "outputs": [
    {
     "name": "stdout",
     "output_type": "stream",
     "text": [
      "13\n"
     ]
    }
   ],
   "source": [
    "arr = [1,2,5,-2,-3,5]\n",
    "\n",
    "a = Solution2()\n",
    "print (a.maxSubarraySumCircular(arr))"
   ]
  },
  {
   "cell_type": "code",
   "execution_count": null,
   "metadata": {},
   "outputs": [],
   "source": []
  }
 ],
 "metadata": {
  "kernelspec": {
   "display_name": "Python 3",
   "language": "python",
   "name": "python3"
  },
  "language_info": {
   "codemirror_mode": {
    "name": "ipython",
    "version": 3
   },
   "file_extension": ".py",
   "mimetype": "text/x-python",
   "name": "python",
   "nbconvert_exporter": "python",
   "pygments_lexer": "ipython3",
   "version": "3.7.4"
  }
 },
 "nbformat": 4,
 "nbformat_minor": 4
}
