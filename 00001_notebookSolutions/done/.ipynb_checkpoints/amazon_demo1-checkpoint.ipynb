{
 "cells": [
  {
   "cell_type": "code",
   "execution_count": 36,
   "metadata": {},
   "outputs": [
    {
     "name": "stdout",
     "output_type": "stream",
     "text": [
      "[0, 0, 0, 0, 0, 1, 1, 0]\n"
     ]
    }
   ],
   "source": [
    "states = [1,1,1,0,1,1,1,1]\n",
    "days = 2\n",
    "\n",
    "def computeday(states):\n",
    "    ans = [0] * len(states)\n",
    "    states.insert(0, 0)\n",
    "    states.append(0)\n",
    "    for i in range(1, len(states)-1):\n",
    "        if states[i-1] == states[i+1]:\n",
    "            ans[i-1] = 0\n",
    "        else:\n",
    "            ans[i-1] = 1\n",
    "    return (ans)\n",
    "\n",
    "ans = states\n",
    "for _ in range(days):\n",
    "    ans = computeday(ans)\n",
    "print (ans)"
   ]
  },
  {
   "cell_type": "code",
   "execution_count": 37,
   "metadata": {},
   "outputs": [
    {
     "name": "stdout",
     "output_type": "stream",
     "text": [
      "1\n"
     ]
    }
   ],
   "source": [
    "def generalizedGCD(num, arr):\n",
    "    # WRITE YOUR CODE HERE\n",
    "    if not num:\n",
    "        return\n",
    "    if num == 1:\n",
    "        return (abs(arr[0]))\n",
    "        \n",
    "    def find_gcd(x, y):\n",
    "        while(y):\n",
    "            x,y = y, x%y\n",
    "        return x\n",
    "    \n",
    "    gcd = find_gcd(arr[0], arr[1])\n",
    "    for i in range(2, len(arr)):\n",
    "        gcd = find_gcd(gcd, arr[i])\n",
    "    \n",
    "    return (gcd)\n",
    "\n",
    "arr = [-1,3]\n",
    "num = 2\n",
    "print (generalizedGCD(num, arr))"
   ]
  },
  {
   "cell_type": "code",
   "execution_count": null,
   "metadata": {},
   "outputs": [],
   "source": []
  }
 ],
 "metadata": {
  "kernelspec": {
   "display_name": "Python 3",
   "language": "python",
   "name": "python3"
  },
  "language_info": {
   "codemirror_mode": {
    "name": "ipython",
    "version": 3
   },
   "file_extension": ".py",
   "mimetype": "text/x-python",
   "name": "python",
   "nbconvert_exporter": "python",
   "pygments_lexer": "ipython3",
   "version": "3.7.4"
  }
 },
 "nbformat": 4,
 "nbformat_minor": 4
}
