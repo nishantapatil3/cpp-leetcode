{
 "cells": [
  {
   "cell_type": "code",
   "execution_count": 9,
   "metadata": {},
   "outputs": [],
   "source": [
    "from typing import List\n",
    "\n",
    "class Solution:\n",
    "    def countBits(self, num: int) -> List[int]:\n",
    "        ans = []\n",
    "        \n",
    "        def countBits(n):\n",
    "            total = 0\n",
    "            n = \"{0:b}\".format(i)\n",
    "            for bit in n:\n",
    "                total += int(bit)\n",
    "            return (total)\n",
    "        \n",
    "        for i in range(num+1):\n",
    "#             print (i)\n",
    "            n = countBits(i)\n",
    "            print (n)\n",
    "            ans.append(n)\n",
    "        \n",
    "        return (ans)"
   ]
  },
  {
   "cell_type": "code",
   "execution_count": 10,
   "metadata": {},
   "outputs": [
    {
     "name": "stdout",
     "output_type": "stream",
     "text": [
      "0\n",
      "1\n",
      "1\n",
      "[0, 1, 1]\n"
     ]
    }
   ],
   "source": [
    "arr = 2\n",
    "\n",
    "a = Solution()\n",
    "print (a.countBits(arr))"
   ]
  },
  {
   "cell_type": "code",
   "execution_count": null,
   "metadata": {},
   "outputs": [],
   "source": []
  }
 ],
 "metadata": {
  "kernelspec": {
   "display_name": "Python 3",
   "language": "python",
   "name": "python3"
  },
  "language_info": {
   "codemirror_mode": {
    "name": "ipython",
    "version": 3
   },
   "file_extension": ".py",
   "mimetype": "text/x-python",
   "name": "python",
   "nbconvert_exporter": "python",
   "pygments_lexer": "ipython3",
   "version": "3.7.4"
  }
 },
 "nbformat": 4,
 "nbformat_minor": 4
}
