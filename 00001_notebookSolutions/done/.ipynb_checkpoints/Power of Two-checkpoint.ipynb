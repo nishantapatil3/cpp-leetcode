{
 "cells": [
  {
   "cell_type": "code",
   "execution_count": 93,
   "metadata": {},
   "outputs": [],
   "source": [
    "from typing import List\n",
    "\n",
    "class Solution:\n",
    "    def str_to_bool(self, s):\n",
    "        if s == '1':\n",
    "             return True\n",
    "        elif s == '0':\n",
    "             return False\n",
    "    \n",
    "    def isPowerOfTwo(self, n: int) -> bool:\n",
    "        if n < 1:\n",
    "            return False\n",
    "        \n",
    "        bits = \"{0:b}\".format(n)\n",
    "        count = False\n",
    "        for bit in bits:\n",
    "            curr = self.str_to_bool(bit)\n",
    "            if curr and count:\n",
    "                return (False)\n",
    "            if curr:\n",
    "                count = True\n",
    "\n",
    "        return (True)\n",
    "\n",
    "class Solution2:\n",
    "    def isPowerOfTwo(self, n: int) -> bool:\n",
    "        if n == 1:\n",
    "            return True\n",
    "        if (n%2 != 0) or (n <= 0):\n",
    "            return False\n",
    "        return self.isPowerOfTwo(n/2)"
   ]
  },
  {
   "cell_type": "code",
   "execution_count": 95,
   "metadata": {},
   "outputs": [
    {
     "name": "stdout",
     "output_type": "stream",
     "text": [
      "-10000\n",
      "True\n"
     ]
    }
   ],
   "source": [
    "arr = -16\n",
    "\n",
    "a = Solution()\n",
    "print (a.isPowerOfTwo(arr))"
   ]
  },
  {
   "cell_type": "code",
   "execution_count": null,
   "metadata": {},
   "outputs": [],
   "source": []
  }
 ],
 "metadata": {
  "kernelspec": {
   "display_name": "Python 3",
   "language": "python",
   "name": "python3"
  },
  "language_info": {
   "codemirror_mode": {
    "name": "ipython",
    "version": 3
   },
   "file_extension": ".py",
   "mimetype": "text/x-python",
   "name": "python",
   "nbconvert_exporter": "python",
   "pygments_lexer": "ipython3",
   "version": "3.7.4"
  }
 },
 "nbformat": 4,
 "nbformat_minor": 4
}
