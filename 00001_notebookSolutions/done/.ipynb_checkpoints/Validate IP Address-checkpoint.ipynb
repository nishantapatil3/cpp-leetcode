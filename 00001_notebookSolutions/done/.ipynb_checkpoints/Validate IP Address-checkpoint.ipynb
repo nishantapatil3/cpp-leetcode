{
 "cells": [
  {
   "cell_type": "code",
   "execution_count": 30,
   "metadata": {},
   "outputs": [],
   "source": [
    "from typing import List\n",
    "\n",
    "class Solution:\n",
    "    def validIPAddress(self, IP: str) -> str:\n",
    "        def isIPv4(s):\n",
    "            try:\n",
    "                return str(int(s)) == s and 0 <= int(s) <= 255\n",
    "            except:\n",
    "                return False\n",
    "        \n",
    "        def isIPv6(s):\n",
    "            if len(s) > 4:\n",
    "                return False\n",
    "            try:\n",
    "                return \n",
    "        \n",
    "        if IP.count(\".\") == 3 and all(isIPv4(i) for i in IP.split(\".\")):\n",
    "            return \"IPv4\"\n",
    "        \n",
    "        if IP.count(\":\") == 7 and all(isIPv6(i) for i in IP.split(\":\")):\n",
    "            return \"IPv6\"\n",
    "        \n",
    "        return ()"
   ]
  },
  {
   "cell_type": "code",
   "execution_count": 32,
   "metadata": {},
   "outputs": [
    {
     "name": "stdout",
     "output_type": "stream",
     "text": [
      "172\n",
      "16\n",
      "254\n",
      "1\n",
      "IPv4\n"
     ]
    }
   ],
   "source": [
    "arr = \"172.16.254.1\"\n",
    "# arr = \"2001:0db8:85a3:0:0:8A2E:0370:7334\"\n",
    "\n",
    "a = Solution()\n",
    "print (a.validIPAddress(arr))"
   ]
  },
  {
   "cell_type": "code",
   "execution_count": null,
   "metadata": {},
   "outputs": [],
   "source": []
  }
 ],
 "metadata": {
  "kernelspec": {
   "display_name": "Python 3",
   "language": "python",
   "name": "python3"
  },
  "language_info": {
   "codemirror_mode": {
    "name": "ipython",
    "version": 3
   },
   "file_extension": ".py",
   "mimetype": "text/x-python",
   "name": "python",
   "nbconvert_exporter": "python",
   "pygments_lexer": "ipython3",
   "version": "3.7.4"
  }
 },
 "nbformat": 4,
 "nbformat_minor": 4
}
