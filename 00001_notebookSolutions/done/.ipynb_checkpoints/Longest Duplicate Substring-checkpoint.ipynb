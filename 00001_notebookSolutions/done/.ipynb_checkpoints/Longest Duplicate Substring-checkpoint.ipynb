{
 "cells": [
  {
   "cell_type": "code",
   "execution_count": 48,
   "metadata": {},
   "outputs": [],
   "source": [
    "import typing\n",
    "\n",
    "class Solution:\n",
    "    def longestDupSubstring(self, S: str) -> str:\n",
    "        #rabin karp's algorithm\n",
    "        p = 2**63-1\n",
    "        def rabin_karp(mid):\n",
    "            cur_hash = 0\n",
    "            for i in range(mid):\n",
    "                cur_hash = (cur_hash * 26 + nums[i]) % p\n",
    "            print (cur_hash)\n",
    "            hashes = {cur_hash}\n",
    "            pos = -1\n",
    "            max_pow = pow(26, mid, p)\n",
    "            for i in range(mid, len(S)):\n",
    "                cur_hash = (26*cur_hash - nums[i-mid]*max_pow + nums[i]) % p\n",
    "                if cur_hash in hashes:\n",
    "                    pos = i + 1 - mid\n",
    "                hashes.add(cur_hash)\n",
    "                print (cur_hash, hashes)\n",
    "            return pos\n",
    "        \n",
    "        #binary search\n",
    "        nums = [ord(c) for c in S]\n",
    "        l,r = 0,len(S)\n",
    "        start, end = 0,0\n",
    "        \n",
    "        while l<=r:\n",
    "            mid = (l+r)//2\n",
    "            pos = rabin_karp(mid)\n",
    "            if pos == -1:\n",
    "                r = mid-1\n",
    "            else:\n",
    "                start,end = pos,pos+mid\n",
    "                l = mid+1\n",
    "        \n",
    "        return (S[start:end])"
   ]
  },
  {
   "cell_type": "code",
   "execution_count": 49,
   "metadata": {},
   "outputs": [
    {
     "name": "stdout",
     "output_type": "stream",
     "text": [
      "68880\n",
      "68529 {68880, 68529}\n",
      "76992 {68880, 68529, 76992}\n",
      "68529 {68880, 68529, 76992}\n",
      "46565512\n",
      "46328561 {46565512, 46328561}\n",
      "1790977\n",
      "1781864 {1781864, 1790977}\n",
      "2001889 {1781864, 1790977, 2001889}\n",
      "ana\n"
     ]
    }
   ],
   "source": [
    "arr = \"banana\"\n",
    "\n",
    "a = Solution()\n",
    "print (a.longestDupSubstring(arr))"
   ]
  },
  {
   "cell_type": "code",
   "execution_count": null,
   "metadata": {},
   "outputs": [],
   "source": []
  }
 ],
 "metadata": {
  "kernelspec": {
   "display_name": "Python 3",
   "language": "python",
   "name": "python3"
  },
  "language_info": {
   "codemirror_mode": {
    "name": "ipython",
    "version": 3
   },
   "file_extension": ".py",
   "mimetype": "text/x-python",
   "name": "python",
   "nbconvert_exporter": "python",
   "pygments_lexer": "ipython3",
   "version": "3.7.4"
  }
 },
 "nbformat": 4,
 "nbformat_minor": 4
}
