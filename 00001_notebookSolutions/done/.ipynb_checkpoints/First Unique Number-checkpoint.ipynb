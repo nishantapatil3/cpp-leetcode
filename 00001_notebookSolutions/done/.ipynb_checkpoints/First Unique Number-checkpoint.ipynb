{
 "cells": [
  {
   "cell_type": "code",
   "execution_count": 64,
   "metadata": {},
   "outputs": [],
   "source": [
    "from typing import List\n",
    "\n",
    "class FirstUnique:\n",
    "    def __init__(self, nums: List[int]):\n",
    "        self.unique = {}\n",
    "        self.q = []\n",
    "        for num in nums:\n",
    "            if num in self.unique:\n",
    "                self.unique[num] += 1\n",
    "            else:\n",
    "                self.unique[num] = 1\n",
    "                self.q.append(num)\n",
    "\n",
    "    def showFirstUnique(self) -> int:\n",
    "        for num in self.q:\n",
    "            if self.unique[num] == 1:\n",
    "                return (num)\n",
    "        return (-1)\n",
    "\n",
    "    def add(self, value: int) -> None:\n",
    "        if value in self.unique:\n",
    "            self.unique[value] += 1\n",
    "        else:\n",
    "            self.unique[value] = 1\n",
    "            self.q.append(value)\n",
    "\n",
    "class FirstUnique2:\n",
    "    def __init__(self, nums: List[int]):\n",
    "        self.banned = set()\n",
    "        self.once = {}\n",
    "        for num in nums:\n",
    "            self.add(num)\n",
    "\n",
    "    def showFirstUnique(self) -> int:\n",
    "        return next(iter(self.once), -1)\n",
    "\n",
    "    def add(self, value: int) -> None:\n",
    "        if value in self.once:\n",
    "            self.banned.add(value)\n",
    "            del self.once[value]\n",
    "        elif value not in self.banned:\n",
    "            self.once[value] = True"
   ]
  },
  {
   "cell_type": "code",
   "execution_count": 65,
   "metadata": {},
   "outputs": [
    {
     "name": "stdout",
     "output_type": "stream",
     "text": [
      "4\n",
      "CPU times: user 197 µs, sys: 82 µs, total: 279 µs\n",
      "Wall time: 239 µs\n"
     ]
    }
   ],
   "source": [
    "%%time\n",
    "nums = [1,1,1,1,1,2,2,2,2,4]\n",
    "\n",
    "obj = FirstUnique2(nums)\n",
    "param_1 = obj.showFirstUnique()\n",
    "obj.add(3)\n",
    "print (param_1)"
   ]
  },
  {
   "cell_type": "code",
   "execution_count": null,
   "metadata": {},
   "outputs": [],
   "source": []
  }
 ],
 "metadata": {
  "kernelspec": {
   "display_name": "Python 3",
   "language": "python",
   "name": "python3"
  },
  "language_info": {
   "codemirror_mode": {
    "name": "ipython",
    "version": 3
   },
   "file_extension": ".py",
   "mimetype": "text/x-python",
   "name": "python",
   "nbconvert_exporter": "python",
   "pygments_lexer": "ipython3",
   "version": "3.7.4"
  }
 },
 "nbformat": 4,
 "nbformat_minor": 4
}
