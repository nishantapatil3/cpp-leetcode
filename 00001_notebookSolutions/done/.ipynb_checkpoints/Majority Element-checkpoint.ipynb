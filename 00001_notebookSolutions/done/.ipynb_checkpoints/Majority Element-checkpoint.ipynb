{
 "cells": [
  {
   "cell_type": "code",
   "execution_count": 30,
   "metadata": {},
   "outputs": [],
   "source": [
    "from typing import List\n",
    "\n",
    "class Solution:\n",
    "    def majorityElement(self, nums: List[int]) -> int:\n",
    "        ans = {}\n",
    "        m = 0\n",
    "        tup = (0, 0)\n",
    "        \n",
    "        for num in nums:\n",
    "            if num not in ans:\n",
    "                ans[num] = 1\n",
    "                if tup[0] == 0:\n",
    "                    tup = (num, m)\n",
    "            else:\n",
    "                ans[num] += 1\n",
    "                m = max(m, ans[num])\n",
    "                if m > tup[1]:\n",
    "                    tup = (num, m)\n",
    "        \n",
    "        print (ans)\n",
    "        print (tup)\n",
    "        return (tup[0])\n",
    "    \n",
    "class Solution2:\n",
    "    def majorityElement(self, nums: List[int]) -> int:\n",
    "        cur, count = nums[0], 0\n",
    "        \n",
    "        for n in nums:\n",
    "            if n == cur:\n",
    "                count += 1\n",
    "            elif count == 0:\n",
    "                cur = n\n",
    "                count += 1\n",
    "            else:\n",
    "                count -= 1\n",
    "                \n",
    "        return (cur)"
   ]
  },
  {
   "cell_type": "code",
   "execution_count": 31,
   "metadata": {},
   "outputs": [
    {
     "name": "stdout",
     "output_type": "stream",
     "text": [
      "{6: 3, 7: 2}\n",
      "(6, 3)\n",
      "6\n"
     ]
    }
   ],
   "source": [
    "arr = [6,6,6,7,7]\n",
    "\n",
    "a = Solution()\n",
    "print (a.majorityElement(arr))"
   ]
  },
  {
   "cell_type": "code",
   "execution_count": null,
   "metadata": {},
   "outputs": [],
   "source": []
  }
 ],
 "metadata": {
  "kernelspec": {
   "display_name": "Python 3",
   "language": "python",
   "name": "python3"
  },
  "language_info": {
   "codemirror_mode": {
    "name": "ipython",
    "version": 3
   },
   "file_extension": ".py",
   "mimetype": "text/x-python",
   "name": "python",
   "nbconvert_exporter": "python",
   "pygments_lexer": "ipython3",
   "version": "3.7.4"
  }
 },
 "nbformat": 4,
 "nbformat_minor": 4
}
