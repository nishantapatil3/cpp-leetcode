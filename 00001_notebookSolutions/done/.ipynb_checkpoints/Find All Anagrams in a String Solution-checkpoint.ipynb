{
 "cells": [
  {
   "cell_type": "code",
   "execution_count": 54,
   "metadata": {},
   "outputs": [],
   "source": [
    "from typing import List\n",
    "\n",
    "class Solution:\n",
    "    def findAnagrams(self, s: str, p: str) -> List[int]:\n",
    "        window = len(p)\n",
    "        p_val = sorted(p)\n",
    "        s_val = 0\n",
    "        ans = []\n",
    "        for i in range(len(s)-window+1):\n",
    "            s_val = sorted(s[i:i+window])\n",
    "            if s_val == p_val:\n",
    "                ans.append(i)\n",
    "            s_val = 0\n",
    "        \n",
    "        return (ans)"
   ]
  },
  {
   "cell_type": "code",
   "execution_count": 55,
   "metadata": {},
   "outputs": [
    {
     "name": "stdout",
     "output_type": "stream",
     "text": [
      "[0, 6]\n"
     ]
    }
   ],
   "source": [
    "s = \"cbaebabacd\" \n",
    "p = \"abc\"\n",
    "\n",
    "a = Solution()\n",
    "print (a.findAnagrams(s, p))"
   ]
  },
  {
   "cell_type": "code",
   "execution_count": 63,
   "metadata": {},
   "outputs": [
    {
     "name": "stdout",
     "output_type": "stream",
     "text": [
      "{'c': 2, 'b': 3, 'a': 3, 'e': 1, 'd': 1}\n",
      "{'c': 0, 'b': 0, 'a': 0, 'e': 1, 'd': 1}\n"
     ]
    }
   ],
   "source": [
    "countPT = {j:0 for j in s}\n",
    "for k in s:\n",
    "    countPT[k] +=1\n",
    "print (countPT)\n",
    "i = 0\n",
    "while i < len(s):\n",
    "    if s[i] in p:\n",
    "        countPT[s[i]] -= 1\n",
    "    i += 1\n",
    "print (countPT)\n"
   ]
  },
  {
   "cell_type": "code",
   "execution_count": null,
   "metadata": {},
   "outputs": [],
   "source": []
  }
 ],
 "metadata": {
  "kernelspec": {
   "display_name": "Python 3",
   "language": "python",
   "name": "python3"
  },
  "language_info": {
   "codemirror_mode": {
    "name": "ipython",
    "version": 3
   },
   "file_extension": ".py",
   "mimetype": "text/x-python",
   "name": "python",
   "nbconvert_exporter": "python",
   "pygments_lexer": "ipython3",
   "version": "3.7.4"
  }
 },
 "nbformat": 4,
 "nbformat_minor": 4
}
