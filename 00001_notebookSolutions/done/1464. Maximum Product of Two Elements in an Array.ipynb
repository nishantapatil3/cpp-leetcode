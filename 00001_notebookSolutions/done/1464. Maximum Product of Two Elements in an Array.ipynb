{
 "cells": [
  {
   "cell_type": "code",
   "execution_count": 47,
   "metadata": {},
   "outputs": [],
   "source": [
    "from typing import List\n",
    "\n",
    "class Solution:\n",
    "    def maxProduct(self, nums: List[int]) -> int:\n",
    "        first = nums[0]\n",
    "        second = nums[1]\n",
    "        \n",
    "        for i in range(1, len(nums)):\n",
    "            second = max(nums[i], second)\n",
    "            if first < second:\n",
    "                second = first\n",
    "                first = nums[i]\n",
    "        \n",
    "        print (first ,second)\n",
    "        return ((first-1)*(second-1))"
   ]
  },
  {
   "cell_type": "code",
   "execution_count": 48,
   "metadata": {},
   "outputs": [
    {
     "name": "stdout",
     "output_type": "stream",
     "text": [
      "10 5\n",
      "36\n"
     ]
    }
   ],
   "source": [
    "arr = [10,2,5,2]\n",
    "\n",
    "a = Solution()\n",
    "print (a.maxProduct(arr))"
   ]
  },
  {
   "cell_type": "code",
   "execution_count": null,
   "metadata": {},
   "outputs": [],
   "source": []
  }
 ],
 "metadata": {
  "kernelspec": {
   "display_name": "Python 3",
   "language": "python",
   "name": "python3"
  },
  "language_info": {
   "codemirror_mode": {
    "name": "ipython",
    "version": 3
   },
   "file_extension": ".py",
   "mimetype": "text/x-python",
   "name": "python",
   "nbconvert_exporter": "python",
   "pygments_lexer": "ipython3",
   "version": "3.7.4"
  }
 },
 "nbformat": 4,
 "nbformat_minor": 4
}
