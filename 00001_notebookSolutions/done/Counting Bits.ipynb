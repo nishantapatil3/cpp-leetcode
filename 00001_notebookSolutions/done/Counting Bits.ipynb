{
 "cells": [
  {
   "cell_type": "code",
   "execution_count": 13,
   "metadata": {},
   "outputs": [],
   "source": [
    "from typing import List\n",
    "\n",
    "class Solution:\n",
    "    def countBits(self, num: int) -> List[int]:\n",
    "        ans = []\n",
    "        \n",
    "        def countBits(n):\n",
    "            total = 0\n",
    "            n = \"{0:b}\".format(i)\n",
    "            for bit in n:\n",
    "                total += int(bit)\n",
    "            return (total)\n",
    "        \n",
    "        for i in range(num+1):\n",
    "            n = countBits(i)\n",
    "            ans.append(n)\n",
    "        \n",
    "        return (ans)\n",
    "    \n",
    "class Solution2:\n",
    "    def countBits(self, num: int) -> List[int]:\n",
    "        ans = [0] * (num+1)\n",
    "        offset = 1\n",
    "        \n",
    "        for i in range(1, num+1):\n",
    "            if (offset*2 == i):\n",
    "                offset = offset*2\n",
    "            ans[i] = ans[i-offset] + 1\n",
    "        \n",
    "        return (ans)"
   ]
  },
  {
   "cell_type": "code",
   "execution_count": 15,
   "metadata": {},
   "outputs": [
    {
     "name": "stdout",
     "output_type": "stream",
     "text": [
      "[0, 1, 1, 2, 1, 2, 2, 3, 1, 2, 2, 3, 2, 3, 3, 4, 1, 2, 2, 3, 2, 3, 3, 4, 2, 3, 3, 4, 3, 4, 4, 5, 1, 2, 2, 3, 2, 3, 3, 4, 2, 3, 3, 4, 3, 4, 4, 5, 2, 3, 3]\n"
     ]
    }
   ],
   "source": [
    "arr = 50\n",
    "\n",
    "a = Solution2()\n",
    "print (a.countBits(arr))"
   ]
  },
  {
   "cell_type": "code",
   "execution_count": null,
   "metadata": {},
   "outputs": [],
   "source": []
  }
 ],
 "metadata": {
  "kernelspec": {
   "display_name": "Python 3",
   "language": "python",
   "name": "python3"
  },
  "language_info": {
   "codemirror_mode": {
    "name": "ipython",
    "version": 3
   },
   "file_extension": ".py",
   "mimetype": "text/x-python",
   "name": "python",
   "nbconvert_exporter": "python",
   "pygments_lexer": "ipython3",
   "version": "3.7.4"
  }
 },
 "nbformat": 4,
 "nbformat_minor": 4
}
