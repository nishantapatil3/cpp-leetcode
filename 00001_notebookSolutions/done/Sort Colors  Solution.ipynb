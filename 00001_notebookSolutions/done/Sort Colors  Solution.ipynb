{
 "cells": [
  {
   "cell_type": "code",
   "execution_count": 49,
   "metadata": {},
   "outputs": [],
   "source": [
    "from typing import List\n",
    "\n",
    "class Solution:\n",
    "    def sortColors(self, nums: List[int]) -> None:\n",
    "        \"\"\"\n",
    "        Do not return anything, modify nums in-place instead.\n",
    "        \"\"\"\n",
    "        # 2 pointer\n",
    "        lnums = len(nums)\n",
    "        a = 0\n",
    "        b = 0\n",
    "        \n",
    "        temp = 0\n",
    "        while a < lnums and b < lnums:\n",
    "            print (nums)\n",
    "            if nums[b] == 0:\n",
    "                temp = nums[a]\n",
    "                nums[a] = nums[b]\n",
    "                nums[b] = temp\n",
    "                a += 1\n",
    "                b = a\n",
    "            else:\n",
    "                b += 1\n",
    "        print (a, b)\n",
    "        b = a\n",
    "        while a < lnums and b < lnums:\n",
    "            print (nums)\n",
    "            if nums[b] == 1:\n",
    "                temp = nums[a]\n",
    "                nums[a] = nums[b]\n",
    "                nums[b] = temp\n",
    "                a += 1\n",
    "                b = a\n",
    "            else:\n",
    "                b += 1\n",
    "        \n",
    "        print (a, b)\n",
    "        return (nums)"
   ]
  },
  {
   "cell_type": "code",
   "execution_count": 51,
   "metadata": {},
   "outputs": [
    {
     "name": "stdout",
     "output_type": "stream",
     "text": [
      "[2, 0]\n",
      "[2, 0]\n",
      "[0, 2]\n",
      "1 2\n",
      "[0, 2]\n",
      "1 2\n",
      "[0, 2]\n"
     ]
    }
   ],
   "source": [
    "arr = [2,0]\n",
    "\n",
    "a = Solution()\n",
    "print (a.sortColors(arr))"
   ]
  },
  {
   "cell_type": "code",
   "execution_count": null,
   "metadata": {},
   "outputs": [],
   "source": []
  }
 ],
 "metadata": {
  "kernelspec": {
   "display_name": "Python 3",
   "language": "python",
   "name": "python3"
  },
  "language_info": {
   "codemirror_mode": {
    "name": "ipython",
    "version": 3
   },
   "file_extension": ".py",
   "mimetype": "text/x-python",
   "name": "python",
   "nbconvert_exporter": "python",
   "pygments_lexer": "ipython3",
   "version": "3.7.4"
  }
 },
 "nbformat": 4,
 "nbformat_minor": 4
}
