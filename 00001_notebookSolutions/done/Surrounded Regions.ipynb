{
 "cells": [
  {
   "cell_type": "code",
   "execution_count": 68,
   "metadata": {},
   "outputs": [],
   "source": [
    "from typing import List\n",
    "\n",
    "class Solution:\n",
    "    def solve(self, board: List[List[str]]) -> None:\n",
    "        \"\"\"\n",
    "        Do not return anything, modify board in-place instead.\n",
    "        \"\"\"\n",
    "        row = len(board)\n",
    "        if not row:\n",
    "            return\n",
    "        col = len(board[0])\n",
    "        \n",
    "        def check(board, i, j, row, col):\n",
    "            if board[i][j] == \"O\":\n",
    "                board[i][j] = \"1\"\n",
    "                if (i>1): check(board, i-1, j, row, col)\n",
    "                if (j>1): check(board, i, j-1, row, col)\n",
    "                if (i+1<row): check(board, i+1, j, row, col)\n",
    "                if (j+1<col): check(board, i, j+1, row, col)\n",
    "        \n",
    "        for i in range(row):\n",
    "            check (board, i, 0, row, col)\n",
    "            if col>1:\n",
    "                check (board, i, col-1, row, col)\n",
    "        for j in range(col):\n",
    "            check (board, 0, j, row, col)\n",
    "            if row>1:\n",
    "                check (board, row-1, j, row, col)\n",
    "        print (board)        \n",
    "        for i in range(row):\n",
    "            for j in range(col):\n",
    "                if (board[i][j] == \"O\"):\n",
    "                    board[i][j] = \"X\"\n",
    "                if (board[i][j] == \"1\"):\n",
    "                    board[i][j] = \"O\"\n",
    "        \n",
    "        return (board)"
   ]
  },
  {
   "cell_type": "code",
   "execution_count": 70,
   "metadata": {},
   "outputs": [
    {
     "name": "stdout",
     "output_type": "stream",
     "text": [
      "['X', 'X', 'X', 'X']\n",
      "['X', 'O', 'O', 'X']\n",
      "['X', 'O', 'X', 'X']\n",
      "['X', 'O', 'X', 'X']\n",
      "[['X', 'X', 'X', 'X'], ['X', '1', '1', 'X'], ['X', '1', 'X', 'X'], ['X', '1', 'X', 'X']]\n",
      "\n",
      "['X', 'X', 'X', 'X']\n",
      "['X', 'O', 'O', 'X']\n",
      "['X', 'O', 'X', 'X']\n",
      "['X', 'O', 'X', 'X']\n"
     ]
    }
   ],
   "source": [
    "# arr = [[\"X\",\"X\",\"X\",\"X\"],[\"X\",\"O\",\"O\",\"X\"],[\"X\",\"X\",\"O\",\"X\"],[\"X\",\"O\",\"X\",\"X\"]]\n",
    "arr = [[\"X\",\"X\",\"X\",\"X\"],[\"X\",\"O\",\"O\",\"X\"],[\"X\",\"O\",\"X\",\"X\"],[\"X\",\"O\",\"X\",\"X\"]]\n",
    "for row in arr:\n",
    "    print (row)\n",
    "\n",
    "a = Solution()\n",
    "ans = a.solve(arr)\n",
    "\n",
    "\n",
    "print ()\n",
    "for row in ans:\n",
    "    print (row)"
   ]
  },
  {
   "cell_type": "code",
   "execution_count": null,
   "metadata": {},
   "outputs": [],
   "source": []
  }
 ],
 "metadata": {
  "kernelspec": {
   "display_name": "Python 3",
   "language": "python",
   "name": "python3"
  },
  "language_info": {
   "codemirror_mode": {
    "name": "ipython",
    "version": 3
   },
   "file_extension": ".py",
   "mimetype": "text/x-python",
   "name": "python",
   "nbconvert_exporter": "python",
   "pygments_lexer": "ipython3",
   "version": "3.7.4"
  }
 },
 "nbformat": 4,
 "nbformat_minor": 4
}
