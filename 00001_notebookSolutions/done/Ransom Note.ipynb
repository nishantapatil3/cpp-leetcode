{
 "cells": [
  {
   "cell_type": "code",
   "execution_count": 16,
   "metadata": {},
   "outputs": [],
   "source": [
    "from typing import List\n",
    "\n",
    "class Solution:\n",
    "    def canConstruct(self, ransomNote: str, magazine: str) -> bool:\n",
    "        if len(ransomNote) == 0 and len(magazine) == 0:\n",
    "            return (True)\n",
    "        if len(magazine) == 0:\n",
    "            return (False)\n",
    "        if len(ransomNote) == 0 and len(magazine) > 0:\n",
    "            return (True)\n",
    "        \n",
    "        mg = {}\n",
    "        \n",
    "        for c in magazine:\n",
    "            if c in mg:\n",
    "                mg[c] += 1\n",
    "            else:\n",
    "                mg[c] = 1\n",
    "        \n",
    "        for key in mg:\n",
    "            cnt = mg[key]\n",
    "            if magazine.count(key) < cnt:\n",
    "                return (False)\n",
    "        \n",
    "        return (True)"
   ]
  },
  {
   "cell_type": "code",
   "execution_count": 17,
   "metadata": {},
   "outputs": [
    {
     "name": "stdout",
     "output_type": "stream",
     "text": [
      "True\n"
     ]
    }
   ],
   "source": [
    "ransomNote = \"bcaaa\"\n",
    "magazine = \"aaba\"\n",
    "\n",
    "a = Solution()\n",
    "print (a.canConstruct(ransomNote, magazine))"
   ]
  },
  {
   "cell_type": "code",
   "execution_count": null,
   "metadata": {},
   "outputs": [],
   "source": []
  }
 ],
 "metadata": {
  "kernelspec": {
   "display_name": "Python 3",
   "language": "python",
   "name": "python3"
  },
  "language_info": {
   "codemirror_mode": {
    "name": "ipython",
    "version": 3
   },
   "file_extension": ".py",
   "mimetype": "text/x-python",
   "name": "python",
   "nbconvert_exporter": "python",
   "pygments_lexer": "ipython3",
   "version": "3.7.4"
  }
 },
 "nbformat": 4,
 "nbformat_minor": 4
}
