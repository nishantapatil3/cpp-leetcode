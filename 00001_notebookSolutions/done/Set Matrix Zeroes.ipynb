{
 "cells": [
  {
   "cell_type": "code",
   "execution_count": 92,
   "metadata": {},
   "outputs": [],
   "source": [
    "from typing import List\n",
    "\n",
    "class Solution:\n",
    "    def setZeroes(self, matrix: List[List[int]]) -> None:\n",
    "        row = [0] * len(matrix[0])\n",
    "        col = [[0]] * len(matrix)\n",
    "        \n",
    "        # find zeros to fill\n",
    "        zeros = []\n",
    "        for i in range(len(matrix)):\n",
    "            for j in range(len(matrix[0])):\n",
    "                if matrix[i][j] == 0:\n",
    "                    zeros.append((i, j))\n",
    "        for a,b in zeros:\n",
    "            for n in range(len(matrix[0])):\n",
    "                matrix[a][n] = 0\n",
    "            for n in range(len(matrix)):\n",
    "                matrix[n][b] = 0\n",
    "        \n",
    "        return (matrix)\n",
    "    \n",
    "class Solution2:\n",
    "    def setZeroes(self, matrix: List[List[int]]) -> None:\n",
    "        row = set()\n",
    "        col = set()\n",
    "        for i in range(len(matrix)):\n",
    "            for j in range(len(matrix[i])):\n",
    "                if matrix[i][j] == 0:\n",
    "                    row.add(i)\n",
    "                    col.add(j)\n",
    "        \n",
    "        for i in range(len(matrix)):\n",
    "            for j in range(len(matrix[i])):\n",
    "                if i in row or j in col:\n",
    "                    matrix[i][j] = 0\n",
    "        \n",
    "        return (matrix)"
   ]
  },
  {
   "cell_type": "code",
   "execution_count": 93,
   "metadata": {},
   "outputs": [
    {
     "name": "stdout",
     "output_type": "stream",
     "text": [
      "[[0, 0, 0, 0], [0, 4, 5, 0], [0, 3, 1, 0]]\n"
     ]
    }
   ],
   "source": [
    "arr = [\n",
    "  [0,1,2,0],\n",
    "  [3,4,5,2],\n",
    "  [1,3,1,5]\n",
    "]\n",
    "\n",
    "a = Solution()\n",
    "print (a.setZeroes(arr))"
   ]
  },
  {
   "cell_type": "code",
   "execution_count": null,
   "metadata": {},
   "outputs": [],
   "source": []
  }
 ],
 "metadata": {
  "kernelspec": {
   "display_name": "Python 3",
   "language": "python",
   "name": "python3"
  },
  "language_info": {
   "codemirror_mode": {
    "name": "ipython",
    "version": 3
   },
   "file_extension": ".py",
   "mimetype": "text/x-python",
   "name": "python",
   "nbconvert_exporter": "python",
   "pygments_lexer": "ipython3",
   "version": "3.7.4"
  }
 },
 "nbformat": 4,
 "nbformat_minor": 4
}
