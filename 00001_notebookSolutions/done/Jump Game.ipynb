{
 "cells": [
  {
   "cell_type": "code",
   "execution_count": 48,
   "metadata": {},
   "outputs": [],
   "source": [
    "from typing import List\n",
    "\n",
    "class Solution:\n",
    "    def canJump(self, nums: List[int]) -> bool:\n",
    "        m = 0\n",
    "        for i,n in enumerate(nums):\n",
    "            if i > m:\n",
    "                return (False)\n",
    "            m = max(m, i+n)\n",
    "        return (True)\n",
    "\n",
    "class Solution2:\n",
    "    def canJump(self, nums: List[int]) -> bool:\n",
    "        goal = len(nums) - 1\n",
    "        for i in range(len(nums)-1, -1, -1):\n",
    "            print (i)\n",
    "            if i + nums[i] >= goal:\n",
    "                goal = i\n",
    "        return (not goal)"
   ]
  },
  {
   "cell_type": "code",
   "execution_count": 49,
   "metadata": {},
   "outputs": [
    {
     "name": "stdout",
     "output_type": "stream",
     "text": [
      "4\n",
      "3\n",
      "2\n",
      "1\n",
      "0\n",
      "True\n"
     ]
    }
   ],
   "source": [
    "arr = [2,3,1,1,4]\n",
    "\n",
    "a = Solution2()\n",
    "print (a.canJump(arr))"
   ]
  },
  {
   "cell_type": "code",
   "execution_count": null,
   "metadata": {},
   "outputs": [],
   "source": []
  }
 ],
 "metadata": {
  "kernelspec": {
   "display_name": "Python 3",
   "language": "python",
   "name": "python3"
  },
  "language_info": {
   "codemirror_mode": {
    "name": "ipython",
    "version": 3
   },
   "file_extension": ".py",
   "mimetype": "text/x-python",
   "name": "python",
   "nbconvert_exporter": "python",
   "pygments_lexer": "ipython3",
   "version": "3.7.4"
  }
 },
 "nbformat": 4,
 "nbformat_minor": 4
}
