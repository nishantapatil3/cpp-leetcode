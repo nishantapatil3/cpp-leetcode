{
 "cells": [
  {
   "cell_type": "code",
   "execution_count": 33,
   "metadata": {},
   "outputs": [],
   "source": [
    "from typing import List\n",
    "import collections\n",
    "\n",
    "class Solution:\n",
    "    def checkInclusion(self, s1: str, s2: str) -> bool:\n",
    "        window = len(s1)\n",
    "        \n",
    "        for i in range(len(s2)-window+1):\n",
    "            word = s2[i:i+window]\n",
    "            print (sorted(word))\n",
    "            if (sorted(word) == sorted(s1)):\n",
    "                return (True)\n",
    "        \n",
    "        return (False)\n",
    "\n",
    "class Solution2:\n",
    "    def checkInclusion(self, s1: str, s2: str) -> bool:\n",
    "        cntr1 = collections.defaultdict(s1)\n",
    "        print (cntr1)\n",
    "        \n",
    "        i = 0\n",
    "        while i < len(s2) - len(s1) + 1:\n",
    "            if s2[i] in cntr1:\n",
    "                cntr2 = collections.defaultdict(s2[i:i+len(s1)])\n",
    "                print (cntr2)\n",
    "                if cntr1 == cntr2: return True\n",
    "            i += 1\n",
    "        \n",
    "        return False\n",
    "\n",
    "class Solution3:\n",
    "    def checkInclusion(self, s1: str, s2: str) -> bool:\n",
    "        l1 = [0] * 26\n",
    "        l2 = [0] * 26\n",
    "        \n",
    "        for c in s1:\n",
    "            l1[ord(c) - ord('a')] += 1\n",
    "        \n",
    "        for i in range(len(s2)):\n",
    "            l2[ord(s2[i]) - ord('a')] += 1\n",
    "            if i >= len(s1):\n",
    "                l2[ord(s2[i-len(s1)]) - ord('a')] -= 1\n",
    "            if l1 == l2: return True\n",
    "            \n",
    "        return False"
   ]
  },
  {
   "cell_type": "code",
   "execution_count": 34,
   "metadata": {},
   "outputs": [
    {
     "name": "stdout",
     "output_type": "stream",
     "text": [
      "True\n"
     ]
    }
   ],
   "source": [
    "s1= \"abc\"\n",
    "s2 = \"dabc\"\n",
    "\n",
    "a = Solution3()\n",
    "print (a.checkInclusion(s1, s2))"
   ]
  },
  {
   "cell_type": "code",
   "execution_count": null,
   "metadata": {},
   "outputs": [],
   "source": []
  }
 ],
 "metadata": {
  "kernelspec": {
   "display_name": "Python 3",
   "language": "python",
   "name": "python3"
  },
  "language_info": {
   "codemirror_mode": {
    "name": "ipython",
    "version": 3
   },
   "file_extension": ".py",
   "mimetype": "text/x-python",
   "name": "python",
   "nbconvert_exporter": "python",
   "pygments_lexer": "ipython3",
   "version": "3.7.4"
  }
 },
 "nbformat": 4,
 "nbformat_minor": 4
}
