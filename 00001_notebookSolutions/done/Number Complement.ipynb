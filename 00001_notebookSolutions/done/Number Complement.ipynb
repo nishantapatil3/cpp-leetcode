{
 "cells": [
  {
   "cell_type": "code",
   "execution_count": 21,
   "metadata": {},
   "outputs": [],
   "source": [
    "from typing import List\n",
    "\n",
    "class Solution:\n",
    "    def findComplement(self, num: int) -> int:\n",
    "        binary = \"{0:b}\".format(num)\n",
    "        binary_inv = \"\"\n",
    "        \n",
    "        for bit in binary:\n",
    "            binary_inv += '1' if bit=='0' else '0'\n",
    "        print (binary_inv)\n",
    "        \n",
    "        decimal = int(binary_inv, 2)\n",
    "        \n",
    "        return (decimal)"
   ]
  },
  {
   "cell_type": "code",
   "execution_count": 22,
   "metadata": {},
   "outputs": [
    {
     "name": "stdout",
     "output_type": "stream",
     "text": [
      "010\n",
      "2\n"
     ]
    }
   ],
   "source": [
    "arr = 5\n",
    "\n",
    "a = Solution()\n",
    "print (a.findComplement(arr))"
   ]
  },
  {
   "cell_type": "code",
   "execution_count": null,
   "metadata": {},
   "outputs": [],
   "source": []
  }
 ],
 "metadata": {
  "kernelspec": {
   "display_name": "Python 3",
   "language": "python",
   "name": "python3"
  },
  "language_info": {
   "codemirror_mode": {
    "name": "ipython",
    "version": 3
   },
   "file_extension": ".py",
   "mimetype": "text/x-python",
   "name": "python",
   "nbconvert_exporter": "python",
   "pygments_lexer": "ipython3",
   "version": "3.7.4"
  }
 },
 "nbformat": 4,
 "nbformat_minor": 4
}
