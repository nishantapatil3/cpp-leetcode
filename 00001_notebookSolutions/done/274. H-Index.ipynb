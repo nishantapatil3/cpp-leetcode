{
 "cells": [
  {
   "cell_type": "code",
   "execution_count": 25,
   "metadata": {},
   "outputs": [],
   "source": [
    "from typing import List\n",
    "\n",
    "class Solution:\n",
    "    def hIndex(self, citations: List[int]) -> int:\n",
    "        N = len(citations)\n",
    "        buckets = [0] * (N+1)\n",
    "        \n",
    "        for c in citations:\n",
    "            print (buckets)\n",
    "            if c>=N:\n",
    "                buckets[N] += 1\n",
    "                print (\"here\", c)\n",
    "            else:\n",
    "                buckets[c] += 1\n",
    "        \n",
    "        print (buckets)\n",
    "        \n",
    "        count = 0\n",
    "        for i in range(N, -1, -1):\n",
    "            count += buckets[i]\n",
    "            if count >= i:\n",
    "                return (i)"
   ]
  },
  {
   "cell_type": "code",
   "execution_count": 26,
   "metadata": {},
   "outputs": [
    {
     "name": "stdout",
     "output_type": "stream",
     "text": [
      "[0, 0, 0, 0, 0, 0]\n",
      "[0, 0, 0, 1, 0, 0]\n",
      "[1, 0, 0, 1, 0, 0]\n",
      "here 6\n",
      "[1, 0, 0, 1, 0, 1]\n",
      "[1, 1, 0, 1, 0, 1]\n",
      "here 5\n",
      "[1, 1, 0, 1, 0, 2]\n",
      "3\n"
     ]
    }
   ],
   "source": [
    "# arr = [7,1,5,3,6,4]\n",
    "arr = [3,0,6,1,5]\n",
    "\n",
    "a = Solution()\n",
    "print (a.hIndex(arr))"
   ]
  },
  {
   "cell_type": "code",
   "execution_count": null,
   "metadata": {},
   "outputs": [],
   "source": []
  }
 ],
 "metadata": {
  "kernelspec": {
   "display_name": "Python 3",
   "language": "python",
   "name": "python3"
  },
  "language_info": {
   "codemirror_mode": {
    "name": "ipython",
    "version": 3
   },
   "file_extension": ".py",
   "mimetype": "text/x-python",
   "name": "python",
   "nbconvert_exporter": "python",
   "pygments_lexer": "ipython3",
   "version": "3.7.4"
  }
 },
 "nbformat": 4,
 "nbformat_minor": 4
}
