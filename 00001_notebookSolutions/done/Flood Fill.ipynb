{
 "cells": [
  {
   "cell_type": "code",
   "execution_count": 14,
   "metadata": {},
   "outputs": [],
   "source": [
    "from typing import List\n",
    "\n",
    "class Solution:\n",
    "    def floodFill(self, image: List[List[int]], sr: int, sc: int, newColor: int) -> List[List[int]]:\n",
    "        R, C = len(image), len(image[0])\n",
    "        col = image[sr][sc]\n",
    "        if col==newColor: return (image)\n",
    "        \n",
    "        def f(r, c):\n",
    "            if image[r][c]==col:\n",
    "                image[r][c] = newColor\n",
    "                if r >= 1: f(r-1, c)\n",
    "                if r+1 < R: f(r+1, c)\n",
    "                if c >= 1: f(r, c-1)\n",
    "                if c+1 < C: f(r, c+1)\n",
    "        \n",
    "        f(sr,sc)\n",
    "        return (image)"
   ]
  },
  {
   "cell_type": "code",
   "execution_count": 15,
   "metadata": {},
   "outputs": [
    {
     "name": "stdout",
     "output_type": "stream",
     "text": [
      "[[2, 2, 2], [2, 2, 0], [2, 0, 1]]\n"
     ]
    }
   ],
   "source": [
    "image = [[1,1,1],[1,1,0],[1,0,1]]\n",
    "sr = 1\n",
    "sc = 1\n",
    "newColor = 2\n",
    "\n",
    "a = Solution()\n",
    "print (a.floodFill(image, sr, sc, newColor))"
   ]
  },
  {
   "cell_type": "code",
   "execution_count": null,
   "metadata": {},
   "outputs": [],
   "source": []
  }
 ],
 "metadata": {
  "kernelspec": {
   "display_name": "Python 3",
   "language": "python",
   "name": "python3"
  },
  "language_info": {
   "codemirror_mode": {
    "name": "ipython",
    "version": 3
   },
   "file_extension": ".py",
   "mimetype": "text/x-python",
   "name": "python",
   "nbconvert_exporter": "python",
   "pygments_lexer": "ipython3",
   "version": "3.7.4"
  }
 },
 "nbformat": 4,
 "nbformat_minor": 4
}
