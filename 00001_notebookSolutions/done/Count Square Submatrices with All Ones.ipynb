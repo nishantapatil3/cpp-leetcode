{
 "cells": [
  {
   "cell_type": "code",
   "execution_count": 27,
   "metadata": {},
   "outputs": [],
   "source": [
    "from typing import List\n",
    "\n",
    "class Solution:\n",
    "    def countSquares(self, A: List[List[int]]) -> int:\n",
    "        for i in range(1, len(A)):\n",
    "            for j in range(1, len(A[i])):\n",
    "                A[i][j] *= min(A[i-1][j-1], A[i][j-1], A[i-1][j]) + 1\n",
    "        \n",
    "        for i in range(len(A)):\n",
    "            print (A[i])\n",
    "#             print (sum(A[i]))\n",
    "        \n",
    "        print (sum(map(sum, A)))\n",
    "        \n",
    "        return ()"
   ]
  },
  {
   "cell_type": "code",
   "execution_count": 28,
   "metadata": {},
   "outputs": [
    {
     "name": "stdout",
     "output_type": "stream",
     "text": [
      "[0, 1, 1, 1]\n",
      "[1, 1, 2, 2]\n",
      "[0, 1, 2, 3]\n",
      "15\n",
      "()\n"
     ]
    }
   ],
   "source": [
    "arr = [[0,1,1,1],[1,1,1,1],[0,1,1,1]]\n",
    "\n",
    "a = Solution()\n",
    "print (a.countSquares(arr))"
   ]
  },
  {
   "cell_type": "code",
   "execution_count": null,
   "metadata": {},
   "outputs": [],
   "source": []
  }
 ],
 "metadata": {
  "kernelspec": {
   "display_name": "Python 3",
   "language": "python",
   "name": "python3"
  },
  "language_info": {
   "codemirror_mode": {
    "name": "ipython",
    "version": 3
   },
   "file_extension": ".py",
   "mimetype": "text/x-python",
   "name": "python",
   "nbconvert_exporter": "python",
   "pygments_lexer": "ipython3",
   "version": "3.7.4"
  }
 },
 "nbformat": 4,
 "nbformat_minor": 4
}
