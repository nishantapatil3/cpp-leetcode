{
 "cells": [
  {
   "cell_type": "code",
   "execution_count": 1,
   "metadata": {},
   "outputs": [],
   "source": [
    "from typing import List\n",
    "\n",
    "class Solution:\n",
    "    def checkValidString(self, s: str) -> bool:\n",
    "        ans = []\n",
    "        wild = []\n",
    "        \n",
    "        for i in range(len(s)):\n",
    "            if s[i] == ')':\n",
    "                if ans:\n",
    "                    ans.pop()\n",
    "                elif wild:\n",
    "                    wild.pop()\n",
    "                else:\n",
    "                    return (False)\n",
    "            elif s[i] == '(':\n",
    "                ans.append(i)\n",
    "            else:\n",
    "                wild.append(i)\n",
    "        \n",
    "        print (ans)\n",
    "        print (wild)\n",
    "        \n",
    "        while ans and wild:\n",
    "            if ans.pop() > wild.pop():\n",
    "                return (False)\n",
    "        \n",
    "        return (ans == [])"
   ]
  },
  {
   "cell_type": "code",
   "execution_count": 2,
   "metadata": {},
   "outputs": [
    {
     "name": "stdout",
     "output_type": "stream",
     "text": [
      "[]\n",
      "[]\n",
      "True\n"
     ]
    }
   ],
   "source": [
    "arr = \"()(*)(((***)))))))\"\n",
    "\n",
    "a = Solution()\n",
    "print (a.checkValidString(arr))"
   ]
  },
  {
   "cell_type": "code",
   "execution_count": null,
   "metadata": {},
   "outputs": [],
   "source": []
  }
 ],
 "metadata": {
  "kernelspec": {
   "display_name": "Python 3",
   "language": "python",
   "name": "python3"
  },
  "language_info": {
   "codemirror_mode": {
    "name": "ipython",
    "version": 3
   },
   "file_extension": ".py",
   "mimetype": "text/x-python",
   "name": "python",
   "nbconvert_exporter": "python",
   "pygments_lexer": "ipython3",
   "version": "3.7.4"
  }
 },
 "nbformat": 4,
 "nbformat_minor": 4
}
