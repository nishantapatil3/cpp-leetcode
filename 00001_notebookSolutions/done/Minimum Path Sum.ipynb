{
 "cells": [
  {
   "cell_type": "code",
   "execution_count": 35,
   "metadata": {},
   "outputs": [],
   "source": [
    "from typing import List\n",
    "\n",
    "class Solution:\n",
    "    def minPathSum(self, grid: List[List[int]]) -> int:\n",
    "        rows = len(grid)\n",
    "        if rows <= 0 or grid is None:\n",
    "            return 0\n",
    "        col = len(grid[0])\n",
    "        \n",
    "        for i in range(1,rows):\n",
    "            grid[i][0]=grid[i-1][0]+grid[i][0]\n",
    "        for j in range(1,col):\n",
    "            grid[0][j]=grid[0][j-1]+grid[0][j]\n",
    "        for r in range(1, rows):\n",
    "            for c in range(1, col):\n",
    "                grid[r][c] = grid[r][c] + min(grid[r-1][c], grid[r][c-1])\n",
    "        \n",
    "        for row in grid:\n",
    "            print (row)\n",
    "        return (grid[rows-1][col-1])\n",
    "\n",
    "class Solution2:\n",
    "    def minPathSum(self, grid: List[List[int]]) -> int:\n",
    "        rows = len(grid)\n",
    "        if rows <= 0 or grid is None:\n",
    "            return 0\n",
    "        col = len(grid[0])\n",
    "        \n",
    "        for r in range(rows):\n",
    "            for c in range(col):\n",
    "                if r==0 and c==0:\n",
    "                    continue\n",
    "                if r-1<0:\n",
    "                    grid[r][c] = grid[r][c] + grid[r][c-1]\n",
    "                elif c-1<0:\n",
    "                    grid[r][c] = grid[r][c] + grid[r-1][c]\n",
    "                else:\n",
    "                    grid[r][c] = grid[r][c] + min(grid[r-1][c], grid[r][c-1])\n",
    "        \n",
    "        return (grid[rows-1][col-1])"
   ]
  },
  {
   "cell_type": "code",
   "execution_count": 36,
   "metadata": {},
   "outputs": [
    {
     "name": "stdout",
     "output_type": "stream",
     "text": [
      "[1, 4, 5]\n",
      "[2, 7, 6]\n",
      "[6, 8, 7]\n",
      "7\n"
     ]
    }
   ],
   "source": [
    "arr = [\n",
    "  [1,3,1],\n",
    "  [1,5,1],\n",
    "  [4,2,1]\n",
    "]\n",
    "a = Solution()\n",
    "\n",
    "ans = a.minPathSum(arr)\n",
    "print (ans)"
   ]
  },
  {
   "cell_type": "code",
   "execution_count": null,
   "metadata": {},
   "outputs": [],
   "source": []
  }
 ],
 "metadata": {
  "kernelspec": {
   "display_name": "Python 3",
   "language": "python",
   "name": "python3"
  },
  "language_info": {
   "codemirror_mode": {
    "name": "ipython",
    "version": 3
   },
   "file_extension": ".py",
   "mimetype": "text/x-python",
   "name": "python",
   "nbconvert_exporter": "python",
   "pygments_lexer": "ipython3",
   "version": "3.7.4"
  }
 },
 "nbformat": 4,
 "nbformat_minor": 4
}
