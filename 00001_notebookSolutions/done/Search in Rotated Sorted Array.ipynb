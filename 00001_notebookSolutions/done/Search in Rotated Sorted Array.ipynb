{
 "cells": [
  {
   "cell_type": "code",
   "execution_count": 17,
   "metadata": {},
   "outputs": [],
   "source": [
    "from typing import List\n",
    "\n",
    "class Solution:\n",
    "    def search(self, nums: List[int], target: int) -> int:\n",
    "        L, H = 0, len(nums)\n",
    "        \n",
    "        while L < H:\n",
    "            M = (L+H)//2\n",
    "            print (M, L, H)\n",
    "            if target < nums[0] < nums[M]:\n",
    "                L = M + 1\n",
    "            elif target >= nums[0] > nums[M]:\n",
    "                H = M\n",
    "            elif nums[M] < target:\n",
    "                L = M + 1\n",
    "            elif nums[M] > target:\n",
    "                H = M\n",
    "            else:\n",
    "                return M\n",
    "        \n",
    "        return (-1)"
   ]
  },
  {
   "cell_type": "code",
   "execution_count": 19,
   "metadata": {},
   "outputs": [
    {
     "name": "stdout",
     "output_type": "stream",
     "text": [
      "6 0 13\n",
      "3 0 6\n",
      "1 0 3\n",
      "0 0 1\n",
      "0\n"
     ]
    }
   ],
   "source": [
    "arr = [4,5,6,7,8,9,10,11,12,0,1,2,3]\n",
    "target = 4\n",
    "\n",
    "a = Solution()\n",
    "print (a.search(arr, target))"
   ]
  },
  {
   "cell_type": "code",
   "execution_count": null,
   "metadata": {},
   "outputs": [],
   "source": []
  }
 ],
 "metadata": {
  "kernelspec": {
   "display_name": "Python 3",
   "language": "python",
   "name": "python3"
  },
  "language_info": {
   "codemirror_mode": {
    "name": "ipython",
    "version": 3
   },
   "file_extension": ".py",
   "mimetype": "text/x-python",
   "name": "python",
   "nbconvert_exporter": "python",
   "pygments_lexer": "ipython3",
   "version": "3.7.4"
  }
 },
 "nbformat": 4,
 "nbformat_minor": 4
}
