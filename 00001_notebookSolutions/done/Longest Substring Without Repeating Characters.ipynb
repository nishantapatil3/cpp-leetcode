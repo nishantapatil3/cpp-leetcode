{
 "cells": [
  {
   "cell_type": "code",
   "execution_count": 42,
   "metadata": {},
   "outputs": [],
   "source": [
    "from typing import List\n",
    "\n",
    "class Solution:\n",
    "    def lengthOfLongestSubstring(self, s: str) -> int:\n",
    "        used = {}\n",
    "        max_length = start = 0\n",
    "        \n",
    "        for i,c in enumerate(s):\n",
    "            if c in used and start<=used[c]:\n",
    "                start = used[c] + 1\n",
    "            else:\n",
    "                max_length = max(max_length, i-start+1)\n",
    "            \n",
    "            used[c] = i\n",
    "            \n",
    "        \n",
    "        print (used)\n",
    "        print (max_length)\n",
    "        \n",
    "        return (max_length)"
   ]
  },
  {
   "cell_type": "code",
   "execution_count": 43,
   "metadata": {},
   "outputs": [
    {
     "name": "stdout",
     "output_type": "stream",
     "text": [
      "{'t': 6, 'm': 2, 'z': 3, 'u': 4, 'x': 5}\n",
      "5\n",
      "5\n"
     ]
    }
   ],
   "source": [
    "arr = \"tmmzuxt\"\n",
    "\n",
    "a = Solution()\n",
    "print (a.lengthOfLongestSubstring(arr))"
   ]
  },
  {
   "cell_type": "code",
   "execution_count": null,
   "metadata": {},
   "outputs": [],
   "source": []
  }
 ],
 "metadata": {
  "kernelspec": {
   "display_name": "Python 3",
   "language": "python",
   "name": "python3"
  },
  "language_info": {
   "codemirror_mode": {
    "name": "ipython",
    "version": 3
   },
   "file_extension": ".py",
   "mimetype": "text/x-python",
   "name": "python",
   "nbconvert_exporter": "python",
   "pygments_lexer": "ipython3",
   "version": "3.7.4"
  }
 },
 "nbformat": 4,
 "nbformat_minor": 4
}
