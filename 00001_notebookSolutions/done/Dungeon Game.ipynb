{
 "cells": [
  {
   "cell_type": "code",
   "execution_count": 70,
   "metadata": {},
   "outputs": [],
   "source": [
    "from typing import List\n",
    "\n",
    "class Solution:\n",
    "    def calculateMinimumHP(self, dungeon: List[List[int]]) -> int:\n",
    "        M = len(dungeon)\n",
    "        N = len(dungeon[0])\n",
    "        cost = [[float('inf')] * (N+1) for _ in range(M+1)]\n",
    "        cost[M-1][N] = 1\n",
    "        cost[M][N-1] = 1\n",
    "        \n",
    "        for i in range(M-1, -1, -1):\n",
    "            for j in range(N-1, -1, -1):\n",
    "                cost[i][j] = max(min(cost[i][j+1],cost[i+1][j]) - dungeon[i][j], 1)\n",
    "        \n",
    "        for i in range(M+1):\n",
    "            print (cost[i])\n",
    "        \n",
    "        return (cost[0][0])"
   ]
  },
  {
   "cell_type": "code",
   "execution_count": 71,
   "metadata": {},
   "outputs": [
    {
     "name": "stdout",
     "output_type": "stream",
     "text": [
      "[7, 5, 2, inf]\n",
      "[6, 11, 5, inf]\n",
      "[1, 1, 6, 1]\n",
      "[inf, inf, 1, inf]\n",
      "7\n"
     ]
    }
   ],
   "source": [
    "arr = [[-2,-3,3],[-5,-10,1],[10,30,-5]]\n",
    "\n",
    "a = Solution()\n",
    "print (a.calculateMinimumHP(arr))"
   ]
  },
  {
   "cell_type": "code",
   "execution_count": null,
   "metadata": {},
   "outputs": [],
   "source": []
  }
 ],
 "metadata": {
  "kernelspec": {
   "display_name": "Python 3",
   "language": "python",
   "name": "python3"
  },
  "language_info": {
   "codemirror_mode": {
    "name": "ipython",
    "version": 3
   },
   "file_extension": ".py",
   "mimetype": "text/x-python",
   "name": "python",
   "nbconvert_exporter": "python",
   "pygments_lexer": "ipython3",
   "version": "3.7.4"
  }
 },
 "nbformat": 4,
 "nbformat_minor": 4
}
