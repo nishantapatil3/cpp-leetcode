{
 "cells": [
  {
   "cell_type": "code",
   "execution_count": 4,
   "metadata": {},
   "outputs": [
    {
     "name": "stdout",
     "output_type": "stream",
     "text": [
      "[0, 6, 11, 13, 15, 20, 21, 30, 34]\n",
      "11\n",
      "0\n",
      "6\n",
      "\n",
      "13\n",
      "13\n",
      "16\n",
      "16\n",
      "20\n",
      "20\n",
      "20\n",
      "20\n",
      "20\n",
      "20\n",
      "20\n",
      "20\n"
     ]
    }
   ],
   "source": [
    "A = [0,6,5,2,2,5,1,9,4]\n",
    "\n",
    "L = 1\n",
    "M = 2\n",
    "\n",
    "\n",
    "for i in range(1, len(A)):\n",
    "    A[i] += A[i - 1]\n",
    "\n",
    "    \n",
    "res = A[L + M - 1]\n",
    "Lmax = A[L - 1]\n",
    "Mmax = A[M - 1]\n",
    "\n",
    "print (A)\n",
    "print (res)\n",
    "print (Lmax)\n",
    "print (Mmax)\n",
    "print ()\n",
    "\n",
    "for i in range(L+M, len(A)):\n",
    "    Lmax = max(Lmax, A[i-L] - A[i-L-M])\n",
    "    res = max(res, Lmax + A[i] - A[i-L])\n",
    "    print (res)\n",
    "    \n",
    "for i in range(L+M, len(A)):\n",
    "    Mmax = max(Mmax, A[i-M] - A[i-L-M])\n",
    "    res = max(res, Mmax + A[i] - A[i-L])\n",
    "    print (res)"
   ]
  },
  {
   "cell_type": "code",
   "execution_count": null,
   "metadata": {},
   "outputs": [],
   "source": []
  }
 ],
 "metadata": {
  "kernelspec": {
   "display_name": "Python 3",
   "language": "python",
   "name": "python3"
  },
  "language_info": {
   "codemirror_mode": {
    "name": "ipython",
    "version": 3
   },
   "file_extension": ".py",
   "mimetype": "text/x-python",
   "name": "python",
   "nbconvert_exporter": "python",
   "pygments_lexer": "ipython3",
   "version": "3.7.4"
  }
 },
 "nbformat": 4,
 "nbformat_minor": 2
}
