{
 "cells": [
  {
   "cell_type": "code",
   "execution_count": 64,
   "metadata": {},
   "outputs": [],
   "source": [
    "from typing import List\n",
    "\n",
    "class Solution:\n",
    "    def firstUniqChar(self, s: str) -> int:\n",
    "        unique = []\n",
    "        blame = []\n",
    "        \n",
    "        for c in s:\n",
    "            if c in unique:\n",
    "                if c not in blame:\n",
    "                    unique.remove(c)\n",
    "                    blame.append(c)\n",
    "            else:\n",
    "                if c not in blame:\n",
    "                    unique.append(c)\n",
    "        \n",
    "        print (unique)\n",
    "        print (blame)\n",
    "        \n",
    "        return (s.index(unique[0]) if unique else -1)\n",
    "    \n",
    "class Solution2:\n",
    "    def firstUniqChar(self, s: str) -> int:\n",
    "        count = {}\n",
    "        \n",
    "        for c in s:\n",
    "            if c in count:\n",
    "                count[c] += 1\n",
    "            else:\n",
    "                count[c] = 1\n",
    "        \n",
    "        for i,j in enumerate(s):\n",
    "            if count[j] == 1:\n",
    "                return (i)\n",
    "        \n",
    "        return (-1)"
   ]
  },
  {
   "cell_type": "code",
   "execution_count": 68,
   "metadata": {},
   "outputs": [
    {
     "name": "stdout",
     "output_type": "stream",
     "text": [
      "2\n"
     ]
    }
   ],
   "source": [
    "arr = \"aab\"\n",
    "\n",
    "a = Solution2()\n",
    "print (a.firstUniqChar(arr))"
   ]
  },
  {
   "cell_type": "code",
   "execution_count": null,
   "metadata": {},
   "outputs": [],
   "source": []
  }
 ],
 "metadata": {
  "kernelspec": {
   "display_name": "Python 3",
   "language": "python",
   "name": "python3"
  },
  "language_info": {
   "codemirror_mode": {
    "name": "ipython",
    "version": 3
   },
   "file_extension": ".py",
   "mimetype": "text/x-python",
   "name": "python",
   "nbconvert_exporter": "python",
   "pygments_lexer": "ipython3",
   "version": "3.7.4"
  }
 },
 "nbformat": 4,
 "nbformat_minor": 4
}
