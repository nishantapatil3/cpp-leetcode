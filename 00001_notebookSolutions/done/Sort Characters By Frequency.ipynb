{
 "cells": [
  {
   "cell_type": "code",
   "execution_count": 35,
   "metadata": {},
   "outputs": [],
   "source": [
    "from typing import List\n",
    "import collections\n",
    "\n",
    "class Solution:\n",
    "    def frequencySort(self, s: str) -> str:\n",
    "        freq = {}\n",
    "        ans = \"\"\n",
    "        \n",
    "        for c in s:\n",
    "            if c not in freq:\n",
    "                freq[c] = 1\n",
    "            else:\n",
    "                freq[c] += 1\n",
    "                \n",
    "        print (freq)\n",
    "        for k, v in sorted(freq.items(), key=lambda freq: freq[1], reverse=True):\n",
    "            ans += k * v\n",
    "        \n",
    "        return (ans)\n",
    "\n",
    "class Solution2:\n",
    "    def frequencySort(self, s: str) -> str:\n",
    "        c = collections.Counter(s)\n",
    "        print (c)"
   ]
  },
  {
   "cell_type": "code",
   "execution_count": 36,
   "metadata": {},
   "outputs": [
    {
     "name": "stdout",
     "output_type": "stream",
     "text": [
      "{'t': 1, 'r': 1, 'e': 2}\n",
      "eetr\n"
     ]
    }
   ],
   "source": [
    "arr = \"tree\"\n",
    "\n",
    "a = Solution()\n",
    "print (a.frequencySort(arr))"
   ]
  },
  {
   "cell_type": "code",
   "execution_count": null,
   "metadata": {},
   "outputs": [],
   "source": []
  }
 ],
 "metadata": {
  "kernelspec": {
   "display_name": "Python 3",
   "language": "python",
   "name": "python3"
  },
  "language_info": {
   "codemirror_mode": {
    "name": "ipython",
    "version": 3
   },
   "file_extension": ".py",
   "mimetype": "text/x-python",
   "name": "python",
   "nbconvert_exporter": "python",
   "pygments_lexer": "ipython3",
   "version": "3.7.4"
  }
 },
 "nbformat": 4,
 "nbformat_minor": 4
}
