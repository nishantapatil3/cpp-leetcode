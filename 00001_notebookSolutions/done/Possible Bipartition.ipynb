{
 "cells": [
  {
   "cell_type": "code",
   "execution_count": 55,
   "metadata": {},
   "outputs": [],
   "source": [
    "from typing import List\n",
    "import collections\n",
    "\n",
    "class Solution:\n",
    "    def possibleBipartition(self, N: int, dislikes: List[List[int]]) -> bool:\n",
    "        graph = collections.defaultdict(list)\n",
    "        for u,v in dislikes:\n",
    "            graph[u].append(v)\n",
    "            graph[v].append(u)\n",
    "        \n",
    "        color = {}\n",
    "        def dfs(node, c=0):\n",
    "            if node in color:\n",
    "                return (color[node] == c)\n",
    "            color[node] = c\n",
    "            return all(dfs(elem, c^1) for elem in graph[node])\n",
    "            \n",
    "        gennn = [dfs(node) for node in range(1, N+1) if node not in color]\n",
    "        \n",
    "        return (all(elem for elem in gennn))\n",
    "\n",
    "class Solution2:\n",
    "    def possibleBipartition(self, N: int, dislikes: List[List[int]]) -> bool:\n",
    "        graph = collections.defaultdict(list)\n",
    "        for u,v in dislikes:\n",
    "            graph[u].append(v)\n",
    "            graph[v].append(u)\n",
    "        \n",
    "        color = [0] * (N+1)\n",
    "        def dfs(person, c):\n",
    "            color[person] = c\n",
    "            for child in graph[person]:\n",
    "                if color[child] == c or (color[child] == 0 and not dfs(child, -c)):\n",
    "                    return False\n",
    "            return True\n",
    "            \n",
    "        for person in range(1, N+1):\n",
    "            if color[person] == 0:\n",
    "                res = dfs(person, 1)\n",
    "                if not res:\n",
    "                    return False\n",
    "        return True"
   ]
  },
  {
   "cell_type": "code",
   "execution_count": 56,
   "metadata": {},
   "outputs": [
    {
     "name": "stdout",
     "output_type": "stream",
     "text": [
      "False\n"
     ]
    }
   ],
   "source": [
    "N = 5\n",
    "dislikes = [[1,2],[2,3],[3,4],[4,5],[1,5]]\n",
    "\n",
    "a = Solution2()\n",
    "print (a.possibleBipartition(N, dislikes))"
   ]
  },
  {
   "cell_type": "code",
   "execution_count": null,
   "metadata": {},
   "outputs": [],
   "source": []
  }
 ],
 "metadata": {
  "kernelspec": {
   "display_name": "Python 3",
   "language": "python",
   "name": "python3"
  },
  "language_info": {
   "codemirror_mode": {
    "name": "ipython",
    "version": 3
   },
   "file_extension": ".py",
   "mimetype": "text/x-python",
   "name": "python",
   "nbconvert_exporter": "python",
   "pygments_lexer": "ipython3",
   "version": "3.7.4"
  }
 },
 "nbformat": 4,
 "nbformat_minor": 4
}
