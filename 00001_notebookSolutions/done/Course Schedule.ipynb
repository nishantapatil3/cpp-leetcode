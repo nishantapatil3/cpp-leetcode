{
 "cells": [
  {
   "cell_type": "code",
   "execution_count": 104,
   "metadata": {},
   "outputs": [],
   "source": [
    "from typing import List\n",
    "import collections\n",
    "\n",
    "class Solution:\n",
    "    def canFinish(self, numCourses: int, prerequisites: List[List[int]]) -> bool:\n",
    "        state = [0] * numCourses\n",
    "        adjlist = [[] for _ in range(numCourses)]\n",
    "        \n",
    "        print (state)\n",
    "        \n",
    "        for i, j in prerequisites:\n",
    "            adjlist[j].append(i)\n",
    "        \n",
    "        \n",
    "        print (adjlist)\n",
    "        \n",
    "        def hascycle(v):\n",
    "            if state[v] == 1:\n",
    "                return False\n",
    "            if state[v] == -1:\n",
    "                return True\n",
    "            state[v] = -1\n",
    "        \n",
    "            for i in adjlist[v]:\n",
    "                if hascycle(i):\n",
    "                    return True\n",
    "            \n",
    "            state[v] = 1\n",
    "            return False\n",
    "        \n",
    "        for v in range(numCourses):\n",
    "            if hascycle(v):\n",
    "                return False\n",
    "        \n",
    "        return True"
   ]
  },
  {
   "cell_type": "code",
   "execution_count": 106,
   "metadata": {},
   "outputs": [
    {
     "name": "stdout",
     "output_type": "stream",
     "text": [
      "[0, 0, 0]\n",
      "[[1], [2], []]\n",
      "True\n"
     ]
    }
   ],
   "source": [
    "numCourses = 3\n",
    "prerequisites = [[2,1],[1,0]]\n",
    "\n",
    "a = Solution()\n",
    "print (a.canFinish(numCourses, prerequisites))"
   ]
  },
  {
   "cell_type": "code",
   "execution_count": null,
   "metadata": {},
   "outputs": [],
   "source": []
  }
 ],
 "metadata": {
  "kernelspec": {
   "display_name": "Python 3",
   "language": "python",
   "name": "python3"
  },
  "language_info": {
   "codemirror_mode": {
    "name": "ipython",
    "version": 3
   },
   "file_extension": ".py",
   "mimetype": "text/x-python",
   "name": "python",
   "nbconvert_exporter": "python",
   "pygments_lexer": "ipython3",
   "version": "3.7.4"
  }
 },
 "nbformat": 4,
 "nbformat_minor": 4
}
