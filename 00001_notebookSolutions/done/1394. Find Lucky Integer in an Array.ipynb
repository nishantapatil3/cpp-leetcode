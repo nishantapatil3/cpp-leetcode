{
 "cells": [
  {
   "cell_type": "code",
   "execution_count": 26,
   "metadata": {},
   "outputs": [],
   "source": [
    "from typing import List\n",
    "\n",
    "class Solution:\n",
    "    def findLucky(self, arr: List[int]) -> int:\n",
    "        numfreq = {}\n",
    "        for num in arr:\n",
    "            if num in numfreq:\n",
    "                numfreq[num] += 1\n",
    "            else:\n",
    "                numfreq[num] = 1\n",
    "        print (numfreq)\n",
    "        \n",
    "        luckylist = []\n",
    "        for key, val in numfreq.items():\n",
    "            if key == val:\n",
    "                luckylist.append(key)\n",
    "        print (luckylist)\n",
    "        \n",
    "        return max(luckylist)"
   ]
  },
  {
   "cell_type": "code",
   "execution_count": 27,
   "metadata": {},
   "outputs": [
    {
     "name": "stdout",
     "output_type": "stream",
     "text": [
      "{2: 2, 3: 1, 4: 1}\n",
      "[2]\n",
      "2\n"
     ]
    }
   ],
   "source": [
    "arr = [2,2,3,4]\n",
    "\n",
    "a = Solution()\n",
    "print (a.findLucky(arr))"
   ]
  },
  {
   "cell_type": "code",
   "execution_count": null,
   "metadata": {},
   "outputs": [],
   "source": []
  }
 ],
 "metadata": {
  "kernelspec": {
   "display_name": "Python 3",
   "language": "python",
   "name": "python3"
  },
  "language_info": {
   "codemirror_mode": {
    "name": "ipython",
    "version": 3
   },
   "file_extension": ".py",
   "mimetype": "text/x-python",
   "name": "python",
   "nbconvert_exporter": "python",
   "pygments_lexer": "ipython3",
   "version": "3.7.4"
  }
 },
 "nbformat": 4,
 "nbformat_minor": 4
}
