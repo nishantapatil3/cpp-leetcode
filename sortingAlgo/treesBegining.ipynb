{
 "cells": [
  {
   "cell_type": "code",
   "execution_count": 1,
   "metadata": {},
   "outputs": [],
   "source": [
    "# treedata = [3,6,9,4,1,2,5,7,8]\n",
    "treedata = [1,1,1,1,1,1,1,1,1,1,1]"
   ]
  },
  {
   "cell_type": "code",
   "execution_count": 2,
   "metadata": {},
   "outputs": [],
   "source": [
    "class Tree(object):\n",
    "    def __init__(self, val):\n",
    "        self.left = None\n",
    "        self.right = None\n",
    "        self.val = val\n",
    "        \n",
    "#     def insert(self, data):\n",
    "#         if self.data:\n",
    "#             if data < self.data:\n",
    "#                 if self.left is None:\n",
    "#                     self.left = Tree(data)\n",
    "#                 else:\n",
    "#                     self.left.insert(data)\n",
    "#             elif data > self.data:\n",
    "#                 if self.right is None:\n",
    "#                     self.right = Tree(data)\n",
    "#                 else:\n",
    "#                     self.right.insert(data)\n",
    "#         else:\n",
    "#             self.data = data\n",
    "    def insert(self, val):\n",
    "        if self.val is not None:\n",
    "            if val < self.val:\n",
    "                if self.left is not None:\n",
    "                    self.left.insert(val)\n",
    "                else:\n",
    "                    self.left = Tree(val)\n",
    "            elif val > self.val:\n",
    "                if self.right is not None:\n",
    "                    self.right.insert(val)\n",
    "                else:\n",
    "                    self.right = Tree(val)\n",
    "            else:\n",
    "                return\n",
    "        else:\n",
    "            self.val = val\n",
    "    \n",
    "    def printTree(self):\n",
    "        #inorder\n",
    "        if self.left:\n",
    "            self.left.printTree()\n",
    "        print (self.val),\n",
    "        if self.right:\n",
    "            self.right.printTree()"
   ]
  },
  {
   "cell_type": "code",
   "execution_count": 3,
   "metadata": {},
   "outputs": [
    {
     "name": "stdout",
     "output_type": "stream",
     "text": [
      "1\n"
     ]
    }
   ],
   "source": [
    "root = Tree(1)\n",
    "for each in treedata:\n",
    "    root.insert(each)\n",
    "root.printTree()"
   ]
  },
  {
   "cell_type": "code",
   "execution_count": 9,
   "metadata": {},
   "outputs": [],
   "source": [
    "import logging\n",
    "\n",
    "logging.basicConfig(level=logging.DEBUG)\n",
    "logger = logging.getLogger(__name__)\n",
    "\n",
    "class Tree(object):\n",
    "    def __init__(self, data, left=None, right=None):\n",
    "        self.data = data\n",
    "        self.left = left\n",
    "        self.right = right\n",
    "\n",
    "    def __repr__(self):\n",
    "        left = None if self.left is None else self.left.data\n",
    "        right = None if self.right is None else self.right.data\n",
    "        return '(D:{}, L:{}, R:{})'.format(self.data, left, right)\n",
    "\n",
    "def build_tree_breadth_first(sequence):\n",
    "    # Create a list of trees\n",
    "    forest = [Tree(x) for x in sequence]\n",
    "\n",
    "    # Fix up the left- and right links\n",
    "    count = len(forest)\n",
    "    for index, tree in enumerate(forest):\n",
    "        left_index = 2 * index + 1\n",
    "        if left_index < count:\n",
    "            tree.left = forest[left_index]\n",
    "\n",
    "        right_index = 2 * index + 2\n",
    "        if right_index < count:\n",
    "            tree.right = forest[right_index]\n",
    "\n",
    "    for index, tree in enumerate(forest):\n",
    "        logger.debug('[{}]: {}'.format(index, tree))\n",
    "    return forest[0]  # root"
   ]
  },
  {
   "cell_type": "code",
   "execution_count": 21,
   "metadata": {},
   "outputs": [
    {
     "name": "stderr",
     "output_type": "stream",
     "text": [
      "DEBUG:__main__:[0]: (D:1, L:1, R:1)\n",
      "DEBUG:__main__:[1]: (D:1, L:1, R:1)\n",
      "DEBUG:__main__:[2]: (D:1, L:1, R:1)\n",
      "DEBUG:__main__:[3]: (D:1, L:2, R:1)\n",
      "DEBUG:__main__:[4]: (D:1, L:1, R:1)\n",
      "DEBUG:__main__:[5]: (D:1, L:None, R:None)\n",
      "DEBUG:__main__:[6]: (D:1, L:None, R:None)\n",
      "DEBUG:__main__:[7]: (D:2, L:None, R:None)\n",
      "DEBUG:__main__:[8]: (D:1, L:None, R:None)\n",
      "DEBUG:__main__:[9]: (D:1, L:None, R:None)\n",
      "DEBUG:__main__:[10]: (D:1, L:None, R:None)\n"
     ]
    },
    {
     "name": "stdout",
     "output_type": "stream",
     "text": [
      "Root is: (D:1, L:1, R:1)\n"
     ]
    }
   ],
   "source": [
    "# treedata = [3,6,9,4,1,2,5,7,8]\n",
    "treedata = [1,1,1,1,1,1,1,2,1,1,1]\n",
    "\n",
    "root = build_tree_breadth_first(treedata)\n",
    "print 'Root is:', root"
   ]
  },
  {
   "cell_type": "code",
   "execution_count": 22,
   "metadata": {},
   "outputs": [],
   "source": [
    "def inorder(root, check):\n",
    "    self.flag = 0\n",
    "    print \"this\", self.flag\n",
    "    if root.left:\n",
    "        inorder(root.left, check)\n",
    "    if root.data != check:\n",
    "        self.flag = 1\n",
    "        return self.flag\n",
    "    if root.right:\n",
    "        inorder(root.right, check)\n",
    "    return True"
   ]
  },
  {
   "cell_type": "code",
   "execution_count": 23,
   "metadata": {},
   "outputs": [],
   "source": [
    "def printTree(root):\n",
    "    #inorder\n",
    "    if root.left:\n",
    "        printTree(root.left)\n",
    "    print (root.data),\n",
    "    if root.right:\n",
    "        printTree(root.right)"
   ]
  },
  {
   "cell_type": "code",
   "execution_count": 24,
   "metadata": {},
   "outputs": [
    {
     "name": "stdout",
     "output_type": "stream",
     "text": [
      "2 1 1 1 1 1 1 1 1 1 1 this\n",
      "this\n",
      "this\n",
      "this\n",
      "this\n",
      "this\n",
      "this\n",
      "this\n",
      "this\n",
      "this\n",
      "this\n"
     ]
    },
    {
     "data": {
      "text/plain": [
       "True"
      ]
     },
     "execution_count": 24,
     "metadata": {},
     "output_type": "execute_result"
    }
   ],
   "source": [
    "printTree(root)\n",
    "check = 1\n",
    "inorder(root, check)"
   ]
  },
  {
   "cell_type": "code",
   "execution_count": null,
   "metadata": {},
   "outputs": [],
   "source": []
  }
 ],
 "metadata": {
  "kernelspec": {
   "display_name": "Python 2",
   "language": "python",
   "name": "python2"
  },
  "language_info": {
   "codemirror_mode": {
    "name": "ipython",
    "version": 2
   },
   "file_extension": ".py",
   "mimetype": "text/x-python",
   "name": "python",
   "nbconvert_exporter": "python",
   "pygments_lexer": "ipython2",
   "version": "2.7.15"
  }
 },
 "nbformat": 4,
 "nbformat_minor": 2
}
