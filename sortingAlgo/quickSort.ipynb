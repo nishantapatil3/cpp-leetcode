{
 "cells": [
  {
   "cell_type": "code",
   "execution_count": 28,
   "metadata": {},
   "outputs": [],
   "source": [
    "# a = [5,6,3,1,8,9,3,4,6,2,1,0]\n",
    "a = [35,40,41,16,20,55]"
   ]
  },
  {
   "cell_type": "code",
   "execution_count": 29,
   "metadata": {},
   "outputs": [],
   "source": [
    "def partition(arr, low, high):\n",
    "    i = low-1         #small element\n",
    "    pivot = arr[high] #set the last element as pivot\n",
    "    print pivot\n",
    "    \n",
    "    #compare pivot with previous value\n",
    "    for j in range(low, high):\n",
    "        \n",
    "        #if current element is small or equal to pivot\n",
    "        if arr[j] <= pivot:\n",
    "            \n",
    "            #increment index of small element\n",
    "            i = i+1\n",
    "            #and swap small element with large element\n",
    "            print arr\n",
    "            arr[j],arr[i] = arr[i],arr[j]\n",
    "    arr[i+1],arr[high] = arr[high], arr[i+1]\n",
    "    return (i+1)"
   ]
  },
  {
   "cell_type": "code",
   "execution_count": 30,
   "metadata": {},
   "outputs": [],
   "source": [
    "#quick sort (divide and conquer)\n",
    "\n",
    "#recursive function to call quicksort\n",
    "def quicksort(arr, low, high):\n",
    "    if low < high:\n",
    "        #pi is partition index\n",
    "        pi = partition(arr, low, high)\n",
    "        print \"------\",arr\n",
    "        #divide left right and conquer\n",
    "        quicksort(arr, low, pi-1)\n",
    "        quicksort(arr, pi+1, high)"
   ]
  },
  {
   "cell_type": "code",
   "execution_count": 31,
   "metadata": {},
   "outputs": [
    {
     "name": "stdout",
     "output_type": "stream",
     "text": [
      "55\n",
      "[35, 40, 41, 16, 20, 55]\n",
      "[35, 40, 41, 16, 20, 55]\n",
      "[35, 40, 41, 16, 20, 55]\n",
      "[35, 40, 41, 16, 20, 55]\n",
      "[35, 40, 41, 16, 20, 55]\n",
      "------ [35, 40, 41, 16, 20, 55]\n",
      "20\n",
      "[35, 40, 41, 16, 20, 55]\n",
      "------ [16, 20, 41, 35, 40, 55]\n",
      "40\n",
      "[16, 20, 41, 35, 40, 55]\n",
      "------ [16, 20, 35, 40, 41, 55]\n",
      "CPU times: user 2.46 ms, sys: 1.24 ms, total: 3.69 ms\n",
      "Wall time: 2.62 ms\n"
     ]
    }
   ],
   "source": [
    "%%time\n",
    "n = len(a)\n",
    "quicksort(a,0,n-1)"
   ]
  },
  {
   "cell_type": "code",
   "execution_count": 5,
   "metadata": {},
   "outputs": [
    {
     "name": "stdout",
     "output_type": "stream",
     "text": [
      "[0, 1, 1, 2, 3, 3, 4, 5, 6, 6, 8, 9]\n"
     ]
    }
   ],
   "source": [
    "print a"
   ]
  },
  {
   "cell_type": "code",
   "execution_count": null,
   "metadata": {},
   "outputs": [],
   "source": []
  }
 ],
 "metadata": {
  "kernelspec": {
   "display_name": "Python 2",
   "language": "python",
   "name": "python2"
  },
  "language_info": {
   "codemirror_mode": {
    "name": "ipython",
    "version": 2
   },
   "file_extension": ".py",
   "mimetype": "text/x-python",
   "name": "python",
   "nbconvert_exporter": "python",
   "pygments_lexer": "ipython2",
   "version": "2.7.15"
  }
 },
 "nbformat": 4,
 "nbformat_minor": 2
}
